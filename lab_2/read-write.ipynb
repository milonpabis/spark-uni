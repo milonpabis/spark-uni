{
 "cells": [
  {
   "cell_type": "code",
   "execution_count": 0,
   "metadata": {
    "application/vnd.databricks.v1+cell": {
     "cellMetadata": {
      "byteLimit": 2048000,
      "rowLimit": 10000
     },
     "inputWidgets": {},
     "nuid": "281a846f-ea5a-4211-99e8-dbcceac84da0",
     "showTitle": false,
     "tableResultSettingsMap": {},
     "title": ""
    }
   },
   "outputs": [],
   "source": [
    "from pyspark.sql import functions as F\n",
    "from pyspark.sql import types as T\n",
    "\n",
    "schema = T.StructType([\n",
    "    T.StructField(\"fixed acidity\", T.DoubleType(), True),\n",
    "    T.StructField(\"volatile acidity\", T.DoubleType(), True),\n",
    "    T.StructField(\"citric acid\", T.DoubleType(), True),\n",
    "    T.StructField(\"residual sugar\", T.DoubleType(), True),\n",
    "    T.StructField(\"chlorides\", T.DoubleType(), True),\n",
    "    T.StructField(\"free sulfur dioxide\", T.DoubleType(), True),\n",
    "    T.StructField(\"total sulfur dioxide\", T.DoubleType(), True),\n",
    "    T.StructField(\"density\", T.DoubleType(), True),\n",
    "    T.StructField(\"pH\", T.DoubleType(), True),\n",
    "    T.StructField(\"sulphates\", T.DoubleType(), True),\n",
    "    T.StructField(\"alcohol\", T.DoubleType(), True),\n",
    "    T.StructField(\"quality\", T.IntegerType(), True)\n",
    "])\n",
    "\n",
    "\n",
    "data = spark.read.option(\"header\", True).schema(schema).csv(\"/databricks-datasets/wine-quality/*\", sep=\";\")\n",
    "\n",
    "data = data.withColumn(\"quality\", F.when(F.col(\"quality\") == 7, \"a\").otherwise(F.col(\"quality\")))\n",
    "\n",
    "data.write.csv(\"dbfs:/tmp/wine-broken.csv\", sep=\";\", mode=\"overwrite\")"
   ]
  },
  {
   "cell_type": "code",
   "execution_count": 0,
   "metadata": {
    "application/vnd.databricks.v1+cell": {
     "cellMetadata": {
      "byteLimit": 2048000,
      "rowLimit": 10000
     },
     "inputWidgets": {},
     "nuid": "128f9936-ca73-4835-96ef-6d92789a0577",
     "showTitle": false,
     "tableResultSettingsMap": {},
     "title": ""
    }
   },
   "outputs": [
    {
     "output_type": "display_data",
     "data": {
      "text/html": [
       "<style scoped>\n",
       "  .table-result-container {\n",
       "    max-height: 300px;\n",
       "    overflow: auto;\n",
       "  }\n",
       "  table, th, td {\n",
       "    border: 1px solid black;\n",
       "    border-collapse: collapse;\n",
       "  }\n",
       "  th, td {\n",
       "    padding: 5px;\n",
       "  }\n",
       "  th {\n",
       "    text-align: left;\n",
       "  }\n",
       "</style><div class='table-result-container'><table class='table-result'><thead style='background-color: white'><tr><th>fixed acidity</th><th>volatile acidity</th><th>citric acid</th><th>residual sugar</th><th>chlorides</th><th>free sulfur dioxide</th><th>total sulfur dioxide</th><th>density</th><th>pH</th><th>sulphates</th><th>alcohol</th><th>quality</th></tr></thead><tbody><tr><td>7.0</td><td>0.27</td><td>0.36</td><td>20.7</td><td>0.045</td><td>45.0</td><td>170.0</td><td>1.001</td><td>3.0</td><td>0.45</td><td>8.8</td><td>6</td></tr><tr><td>6.3</td><td>0.3</td><td>0.34</td><td>1.6</td><td>0.049</td><td>14.0</td><td>132.0</td><td>0.994</td><td>3.3</td><td>0.49</td><td>9.5</td><td>6</td></tr><tr><td>8.1</td><td>0.28</td><td>0.4</td><td>6.9</td><td>0.05</td><td>30.0</td><td>97.0</td><td>0.9951</td><td>3.26</td><td>0.44</td><td>10.1</td><td>6</td></tr><tr><td>7.2</td><td>0.23</td><td>0.32</td><td>8.5</td><td>0.058</td><td>47.0</td><td>186.0</td><td>0.9956</td><td>3.19</td><td>0.4</td><td>9.9</td><td>6</td></tr><tr><td>7.2</td><td>0.23</td><td>0.32</td><td>8.5</td><td>0.058</td><td>47.0</td><td>186.0</td><td>0.9956</td><td>3.19</td><td>0.4</td><td>9.9</td><td>6</td></tr><tr><td>8.1</td><td>0.28</td><td>0.4</td><td>6.9</td><td>0.05</td><td>30.0</td><td>97.0</td><td>0.9951</td><td>3.26</td><td>0.44</td><td>10.1</td><td>6</td></tr><tr><td>6.2</td><td>0.32</td><td>0.16</td><td>7.0</td><td>0.045</td><td>30.0</td><td>136.0</td><td>0.9949</td><td>3.18</td><td>0.47</td><td>9.6</td><td>6</td></tr><tr><td>7.0</td><td>0.27</td><td>0.36</td><td>20.7</td><td>0.045</td><td>45.0</td><td>170.0</td><td>1.001</td><td>3.0</td><td>0.45</td><td>8.8</td><td>6</td></tr><tr><td>6.3</td><td>0.3</td><td>0.34</td><td>1.6</td><td>0.049</td><td>14.0</td><td>132.0</td><td>0.994</td><td>3.3</td><td>0.49</td><td>9.5</td><td>6</td></tr><tr><td>8.1</td><td>0.22</td><td>0.43</td><td>1.5</td><td>0.044</td><td>28.0</td><td>129.0</td><td>0.9938</td><td>3.22</td><td>0.45</td><td>11.0</td><td>6</td></tr><tr><td>8.1</td><td>0.27</td><td>0.41</td><td>1.45</td><td>0.033</td><td>11.0</td><td>63.0</td><td>0.9908</td><td>2.99</td><td>0.56</td><td>12.0</td><td>5</td></tr><tr><td>8.6</td><td>0.23</td><td>0.4</td><td>4.2</td><td>0.035</td><td>17.0</td><td>109.0</td><td>0.9947</td><td>3.14</td><td>0.53</td><td>9.7</td><td>5</td></tr><tr><td>7.9</td><td>0.18</td><td>0.37</td><td>1.2</td><td>0.04</td><td>16.0</td><td>75.0</td><td>0.992</td><td>3.18</td><td>0.63</td><td>10.8</td><td>5</td></tr><tr><td>6.6</td><td>0.16</td><td>0.4</td><td>1.5</td><td>0.044</td><td>48.0</td><td>143.0</td><td>0.9912</td><td>3.54</td><td>0.52</td><td>12.4</td><td>a</td></tr><tr><td>8.3</td><td>0.42</td><td>0.62</td><td>19.25</td><td>0.04</td><td>41.0</td><td>172.0</td><td>1.0002</td><td>2.98</td><td>0.67</td><td>9.7</td><td>5</td></tr><tr><td>6.6</td><td>0.17</td><td>0.38</td><td>1.5</td><td>0.032</td><td>28.0</td><td>112.0</td><td>0.9914</td><td>3.25</td><td>0.55</td><td>11.4</td><td>a</td></tr><tr><td>6.3</td><td>0.48</td><td>0.04</td><td>1.1</td><td>0.046</td><td>30.0</td><td>99.0</td><td>0.9928</td><td>3.24</td><td>0.36</td><td>9.6</td><td>6</td></tr><tr><td>6.2</td><td>0.66</td><td>0.48</td><td>1.2</td><td>0.029</td><td>29.0</td><td>75.0</td><td>0.9892</td><td>3.33</td><td>0.39</td><td>12.8</td><td>8</td></tr><tr><td>7.4</td><td>0.34</td><td>0.42</td><td>1.1</td><td>0.033</td><td>17.0</td><td>171.0</td><td>0.9917</td><td>3.12</td><td>0.53</td><td>11.3</td><td>6</td></tr><tr><td>6.5</td><td>0.31</td><td>0.14</td><td>7.5</td><td>0.044</td><td>34.0</td><td>133.0</td><td>0.9955</td><td>3.22</td><td>0.5</td><td>9.5</td><td>5</td></tr></tbody></table></div>"
      ]
     },
     "metadata": {
      "application/vnd.databricks.v1+output": {
       "addedWidgets": {},
       "aggData": [],
       "aggError": "",
       "aggOverflow": false,
       "aggSchema": [],
       "aggSeriesLimitReached": false,
       "aggType": "",
       "arguments": {},
       "columnCustomDisplayInfos": {},
       "data": [
        [
         7.0,
         0.27,
         0.36,
         20.7,
         0.045,
         45.0,
         170.0,
         1.001,
         3.0,
         0.45,
         8.8,
         "6"
        ],
        [
         6.3,
         0.3,
         0.34,
         1.6,
         0.049,
         14.0,
         132.0,
         0.994,
         3.3,
         0.49,
         9.5,
         "6"
        ],
        [
         8.1,
         0.28,
         0.4,
         6.9,
         0.05,
         30.0,
         97.0,
         0.9951,
         3.26,
         0.44,
         10.1,
         "6"
        ],
        [
         7.2,
         0.23,
         0.32,
         8.5,
         0.058,
         47.0,
         186.0,
         0.9956,
         3.19,
         0.4,
         9.9,
         "6"
        ],
        [
         7.2,
         0.23,
         0.32,
         8.5,
         0.058,
         47.0,
         186.0,
         0.9956,
         3.19,
         0.4,
         9.9,
         "6"
        ],
        [
         8.1,
         0.28,
         0.4,
         6.9,
         0.05,
         30.0,
         97.0,
         0.9951,
         3.26,
         0.44,
         10.1,
         "6"
        ],
        [
         6.2,
         0.32,
         0.16,
         7.0,
         0.045,
         30.0,
         136.0,
         0.9949,
         3.18,
         0.47,
         9.6,
         "6"
        ],
        [
         7.0,
         0.27,
         0.36,
         20.7,
         0.045,
         45.0,
         170.0,
         1.001,
         3.0,
         0.45,
         8.8,
         "6"
        ],
        [
         6.3,
         0.3,
         0.34,
         1.6,
         0.049,
         14.0,
         132.0,
         0.994,
         3.3,
         0.49,
         9.5,
         "6"
        ],
        [
         8.1,
         0.22,
         0.43,
         1.5,
         0.044,
         28.0,
         129.0,
         0.9938,
         3.22,
         0.45,
         11.0,
         "6"
        ],
        [
         8.1,
         0.27,
         0.41,
         1.45,
         0.033,
         11.0,
         63.0,
         0.9908,
         2.99,
         0.56,
         12.0,
         "5"
        ],
        [
         8.6,
         0.23,
         0.4,
         4.2,
         0.035,
         17.0,
         109.0,
         0.9947,
         3.14,
         0.53,
         9.7,
         "5"
        ],
        [
         7.9,
         0.18,
         0.37,
         1.2,
         0.04,
         16.0,
         75.0,
         0.992,
         3.18,
         0.63,
         10.8,
         "5"
        ],
        [
         6.6,
         0.16,
         0.4,
         1.5,
         0.044,
         48.0,
         143.0,
         0.9912,
         3.54,
         0.52,
         12.4,
         "a"
        ],
        [
         8.3,
         0.42,
         0.62,
         19.25,
         0.04,
         41.0,
         172.0,
         1.0002,
         2.98,
         0.67,
         9.7,
         "5"
        ],
        [
         6.6,
         0.17,
         0.38,
         1.5,
         0.032,
         28.0,
         112.0,
         0.9914,
         3.25,
         0.55,
         11.4,
         "a"
        ],
        [
         6.3,
         0.48,
         0.04,
         1.1,
         0.046,
         30.0,
         99.0,
         0.9928,
         3.24,
         0.36,
         9.6,
         "6"
        ],
        [
         6.2,
         0.66,
         0.48,
         1.2,
         0.029,
         29.0,
         75.0,
         0.9892,
         3.33,
         0.39,
         12.8,
         "8"
        ],
        [
         7.4,
         0.34,
         0.42,
         1.1,
         0.033,
         17.0,
         171.0,
         0.9917,
         3.12,
         0.53,
         11.3,
         "6"
        ],
        [
         6.5,
         0.31,
         0.14,
         7.5,
         0.044,
         34.0,
         133.0,
         0.9955,
         3.22,
         0.5,
         9.5,
         "5"
        ]
       ],
       "datasetInfos": [],
       "dbfsResultPath": null,
       "isJsonSchema": true,
       "metadata": {},
       "overflow": false,
       "plotOptions": {
        "customPlotOptions": {},
        "displayType": "table",
        "pivotAggregation": null,
        "pivotColumns": null,
        "xColumns": null,
        "yColumns": null
       },
       "removedWidgets": [],
       "schema": [
        {
         "metadata": "{}",
         "name": "fixed acidity",
         "type": "\"double\""
        },
        {
         "metadata": "{}",
         "name": "volatile acidity",
         "type": "\"double\""
        },
        {
         "metadata": "{}",
         "name": "citric acid",
         "type": "\"double\""
        },
        {
         "metadata": "{}",
         "name": "residual sugar",
         "type": "\"double\""
        },
        {
         "metadata": "{}",
         "name": "chlorides",
         "type": "\"double\""
        },
        {
         "metadata": "{}",
         "name": "free sulfur dioxide",
         "type": "\"double\""
        },
        {
         "metadata": "{}",
         "name": "total sulfur dioxide",
         "type": "\"double\""
        },
        {
         "metadata": "{}",
         "name": "density",
         "type": "\"double\""
        },
        {
         "metadata": "{}",
         "name": "pH",
         "type": "\"double\""
        },
        {
         "metadata": "{}",
         "name": "sulphates",
         "type": "\"double\""
        },
        {
         "metadata": "{}",
         "name": "alcohol",
         "type": "\"double\""
        },
        {
         "metadata": "{}",
         "name": "quality",
         "type": "\"string\""
        }
       ],
       "type": "table"
      }
     },
     "output_type": "display_data"
    }
   ],
   "source": [
    "display(data.limit(20))"
   ]
  },
  {
   "cell_type": "markdown",
   "metadata": {
    "application/vnd.databricks.v1+cell": {
     "cellMetadata": {},
     "inputWidgets": {},
     "nuid": "4c601d88-9b55-4a4b-b07a-b52a97c126cb",
     "showTitle": false,
     "tableResultSettingsMap": {},
     "title": ""
    }
   },
   "source": [
    "### Permissive Mode\n",
    "\n",
    "Changes malformed values to NULLs"
   ]
  },
  {
   "cell_type": "code",
   "execution_count": 0,
   "metadata": {
    "application/vnd.databricks.v1+cell": {
     "cellMetadata": {
      "byteLimit": 2048000,
      "rowLimit": 10000
     },
     "inputWidgets": {},
     "nuid": "9628acff-2829-452e-82be-3695718023f4",
     "showTitle": false,
     "tableResultSettingsMap": {},
     "title": ""
    }
   },
   "outputs": [
    {
     "output_type": "display_data",
     "data": {
      "text/html": [
       "<style scoped>\n",
       "  .table-result-container {\n",
       "    max-height: 300px;\n",
       "    overflow: auto;\n",
       "  }\n",
       "  table, th, td {\n",
       "    border: 1px solid black;\n",
       "    border-collapse: collapse;\n",
       "  }\n",
       "  th, td {\n",
       "    padding: 5px;\n",
       "  }\n",
       "  th {\n",
       "    text-align: left;\n",
       "  }\n",
       "</style><div class='table-result-container'><table class='table-result'><thead style='background-color: white'><tr><th>fixed acidity</th><th>volatile acidity</th><th>citric acid</th><th>residual sugar</th><th>chlorides</th><th>free sulfur dioxide</th><th>total sulfur dioxide</th><th>density</th><th>pH</th><th>sulphates</th><th>alcohol</th><th>quality</th></tr></thead><tbody><tr><td>6.3</td><td>0.3</td><td>0.34</td><td>1.6</td><td>0.049</td><td>14.0</td><td>132.0</td><td>0.994</td><td>3.3</td><td>0.49</td><td>9.5</td><td>6</td></tr><tr><td>8.1</td><td>0.28</td><td>0.4</td><td>6.9</td><td>0.05</td><td>30.0</td><td>97.0</td><td>0.9951</td><td>3.26</td><td>0.44</td><td>10.1</td><td>6</td></tr><tr><td>7.2</td><td>0.23</td><td>0.32</td><td>8.5</td><td>0.058</td><td>47.0</td><td>186.0</td><td>0.9956</td><td>3.19</td><td>0.4</td><td>9.9</td><td>6</td></tr><tr><td>7.2</td><td>0.23</td><td>0.32</td><td>8.5</td><td>0.058</td><td>47.0</td><td>186.0</td><td>0.9956</td><td>3.19</td><td>0.4</td><td>9.9</td><td>6</td></tr><tr><td>8.1</td><td>0.28</td><td>0.4</td><td>6.9</td><td>0.05</td><td>30.0</td><td>97.0</td><td>0.9951</td><td>3.26</td><td>0.44</td><td>10.1</td><td>6</td></tr><tr><td>6.2</td><td>0.32</td><td>0.16</td><td>7.0</td><td>0.045</td><td>30.0</td><td>136.0</td><td>0.9949</td><td>3.18</td><td>0.47</td><td>9.6</td><td>6</td></tr><tr><td>7.0</td><td>0.27</td><td>0.36</td><td>20.7</td><td>0.045</td><td>45.0</td><td>170.0</td><td>1.001</td><td>3.0</td><td>0.45</td><td>8.8</td><td>6</td></tr><tr><td>6.3</td><td>0.3</td><td>0.34</td><td>1.6</td><td>0.049</td><td>14.0</td><td>132.0</td><td>0.994</td><td>3.3</td><td>0.49</td><td>9.5</td><td>6</td></tr><tr><td>8.1</td><td>0.22</td><td>0.43</td><td>1.5</td><td>0.044</td><td>28.0</td><td>129.0</td><td>0.9938</td><td>3.22</td><td>0.45</td><td>11.0</td><td>6</td></tr><tr><td>8.1</td><td>0.27</td><td>0.41</td><td>1.45</td><td>0.033</td><td>11.0</td><td>63.0</td><td>0.9908</td><td>2.99</td><td>0.56</td><td>12.0</td><td>5</td></tr><tr><td>8.6</td><td>0.23</td><td>0.4</td><td>4.2</td><td>0.035</td><td>17.0</td><td>109.0</td><td>0.9947</td><td>3.14</td><td>0.53</td><td>9.7</td><td>5</td></tr><tr><td>7.9</td><td>0.18</td><td>0.37</td><td>1.2</td><td>0.04</td><td>16.0</td><td>75.0</td><td>0.992</td><td>3.18</td><td>0.63</td><td>10.8</td><td>5</td></tr><tr><td>6.6</td><td>0.16</td><td>0.4</td><td>1.5</td><td>0.044</td><td>48.0</td><td>143.0</td><td>0.9912</td><td>3.54</td><td>0.52</td><td>12.4</td><td>null</td></tr><tr><td>8.3</td><td>0.42</td><td>0.62</td><td>19.25</td><td>0.04</td><td>41.0</td><td>172.0</td><td>1.0002</td><td>2.98</td><td>0.67</td><td>9.7</td><td>5</td></tr><tr><td>6.6</td><td>0.17</td><td>0.38</td><td>1.5</td><td>0.032</td><td>28.0</td><td>112.0</td><td>0.9914</td><td>3.25</td><td>0.55</td><td>11.4</td><td>null</td></tr><tr><td>6.3</td><td>0.48</td><td>0.04</td><td>1.1</td><td>0.046</td><td>30.0</td><td>99.0</td><td>0.9928</td><td>3.24</td><td>0.36</td><td>9.6</td><td>6</td></tr><tr><td>6.2</td><td>0.66</td><td>0.48</td><td>1.2</td><td>0.029</td><td>29.0</td><td>75.0</td><td>0.9892</td><td>3.33</td><td>0.39</td><td>12.8</td><td>8</td></tr><tr><td>7.4</td><td>0.34</td><td>0.42</td><td>1.1</td><td>0.033</td><td>17.0</td><td>171.0</td><td>0.9917</td><td>3.12</td><td>0.53</td><td>11.3</td><td>6</td></tr><tr><td>6.5</td><td>0.31</td><td>0.14</td><td>7.5</td><td>0.044</td><td>34.0</td><td>133.0</td><td>0.9955</td><td>3.22</td><td>0.5</td><td>9.5</td><td>5</td></tr><tr><td>6.2</td><td>0.66</td><td>0.48</td><td>1.2</td><td>0.029</td><td>29.0</td><td>75.0</td><td>0.9892</td><td>3.33</td><td>0.39</td><td>12.8</td><td>8</td></tr></tbody></table></div>"
      ]
     },
     "metadata": {
      "application/vnd.databricks.v1+output": {
       "addedWidgets": {},
       "aggData": [],
       "aggError": "",
       "aggOverflow": false,
       "aggSchema": [],
       "aggSeriesLimitReached": false,
       "aggType": "",
       "arguments": {},
       "columnCustomDisplayInfos": {},
       "data": [
        [
         6.3,
         0.3,
         0.34,
         1.6,
         0.049,
         14.0,
         132.0,
         0.994,
         3.3,
         0.49,
         9.5,
         6
        ],
        [
         8.1,
         0.28,
         0.4,
         6.9,
         0.05,
         30.0,
         97.0,
         0.9951,
         3.26,
         0.44,
         10.1,
         6
        ],
        [
         7.2,
         0.23,
         0.32,
         8.5,
         0.058,
         47.0,
         186.0,
         0.9956,
         3.19,
         0.4,
         9.9,
         6
        ],
        [
         7.2,
         0.23,
         0.32,
         8.5,
         0.058,
         47.0,
         186.0,
         0.9956,
         3.19,
         0.4,
         9.9,
         6
        ],
        [
         8.1,
         0.28,
         0.4,
         6.9,
         0.05,
         30.0,
         97.0,
         0.9951,
         3.26,
         0.44,
         10.1,
         6
        ],
        [
         6.2,
         0.32,
         0.16,
         7.0,
         0.045,
         30.0,
         136.0,
         0.9949,
         3.18,
         0.47,
         9.6,
         6
        ],
        [
         7.0,
         0.27,
         0.36,
         20.7,
         0.045,
         45.0,
         170.0,
         1.001,
         3.0,
         0.45,
         8.8,
         6
        ],
        [
         6.3,
         0.3,
         0.34,
         1.6,
         0.049,
         14.0,
         132.0,
         0.994,
         3.3,
         0.49,
         9.5,
         6
        ],
        [
         8.1,
         0.22,
         0.43,
         1.5,
         0.044,
         28.0,
         129.0,
         0.9938,
         3.22,
         0.45,
         11.0,
         6
        ],
        [
         8.1,
         0.27,
         0.41,
         1.45,
         0.033,
         11.0,
         63.0,
         0.9908,
         2.99,
         0.56,
         12.0,
         5
        ],
        [
         8.6,
         0.23,
         0.4,
         4.2,
         0.035,
         17.0,
         109.0,
         0.9947,
         3.14,
         0.53,
         9.7,
         5
        ],
        [
         7.9,
         0.18,
         0.37,
         1.2,
         0.04,
         16.0,
         75.0,
         0.992,
         3.18,
         0.63,
         10.8,
         5
        ],
        [
         6.6,
         0.16,
         0.4,
         1.5,
         0.044,
         48.0,
         143.0,
         0.9912,
         3.54,
         0.52,
         12.4,
         null
        ],
        [
         8.3,
         0.42,
         0.62,
         19.25,
         0.04,
         41.0,
         172.0,
         1.0002,
         2.98,
         0.67,
         9.7,
         5
        ],
        [
         6.6,
         0.17,
         0.38,
         1.5,
         0.032,
         28.0,
         112.0,
         0.9914,
         3.25,
         0.55,
         11.4,
         null
        ],
        [
         6.3,
         0.48,
         0.04,
         1.1,
         0.046,
         30.0,
         99.0,
         0.9928,
         3.24,
         0.36,
         9.6,
         6
        ],
        [
         6.2,
         0.66,
         0.48,
         1.2,
         0.029,
         29.0,
         75.0,
         0.9892,
         3.33,
         0.39,
         12.8,
         8
        ],
        [
         7.4,
         0.34,
         0.42,
         1.1,
         0.033,
         17.0,
         171.0,
         0.9917,
         3.12,
         0.53,
         11.3,
         6
        ],
        [
         6.5,
         0.31,
         0.14,
         7.5,
         0.044,
         34.0,
         133.0,
         0.9955,
         3.22,
         0.5,
         9.5,
         5
        ],
        [
         6.2,
         0.66,
         0.48,
         1.2,
         0.029,
         29.0,
         75.0,
         0.9892,
         3.33,
         0.39,
         12.8,
         8
        ]
       ],
       "datasetInfos": [],
       "dbfsResultPath": null,
       "isJsonSchema": true,
       "metadata": {},
       "overflow": false,
       "plotOptions": {
        "customPlotOptions": {},
        "displayType": "table",
        "pivotAggregation": null,
        "pivotColumns": null,
        "xColumns": null,
        "yColumns": null
       },
       "removedWidgets": [],
       "schema": [
        {
         "metadata": "{}",
         "name": "fixed acidity",
         "type": "\"double\""
        },
        {
         "metadata": "{}",
         "name": "volatile acidity",
         "type": "\"double\""
        },
        {
         "metadata": "{}",
         "name": "citric acid",
         "type": "\"double\""
        },
        {
         "metadata": "{}",
         "name": "residual sugar",
         "type": "\"double\""
        },
        {
         "metadata": "{}",
         "name": "chlorides",
         "type": "\"double\""
        },
        {
         "metadata": "{}",
         "name": "free sulfur dioxide",
         "type": "\"double\""
        },
        {
         "metadata": "{}",
         "name": "total sulfur dioxide",
         "type": "\"double\""
        },
        {
         "metadata": "{}",
         "name": "density",
         "type": "\"double\""
        },
        {
         "metadata": "{}",
         "name": "pH",
         "type": "\"double\""
        },
        {
         "metadata": "{}",
         "name": "sulphates",
         "type": "\"double\""
        },
        {
         "metadata": "{}",
         "name": "alcohol",
         "type": "\"double\""
        },
        {
         "metadata": "{}",
         "name": "quality",
         "type": "\"integer\""
        }
       ],
       "type": "table"
      }
     },
     "output_type": "display_data"
    }
   ],
   "source": [
    "data_permissive_mode = spark.read.option(\"header\", True).option(\"mode\", \"permissive\").schema(schema).csv(\"/tmp/wine-broken.csv\", sep=\";\")\n",
    "\n",
    "display(data_permissive_mode.limit(20))"
   ]
  },
  {
   "cell_type": "markdown",
   "metadata": {
    "application/vnd.databricks.v1+cell": {
     "cellMetadata": {},
     "inputWidgets": {},
     "nuid": "9a859321-fc6d-4f59-911d-3f635ca7fffe",
     "showTitle": false,
     "tableResultSettingsMap": {},
     "title": ""
    }
   },
   "source": [
    "### DropMalformed Mode\n",
    "Removes the malformed values"
   ]
  },
  {
   "cell_type": "code",
   "execution_count": 0,
   "metadata": {
    "application/vnd.databricks.v1+cell": {
     "cellMetadata": {
      "byteLimit": 2048000,
      "rowLimit": 10000
     },
     "inputWidgets": {},
     "nuid": "d4ba513a-0469-4000-b74d-d48743dc3930",
     "showTitle": false,
     "tableResultSettingsMap": {},
     "title": ""
    }
   },
   "outputs": [
    {
     "output_type": "display_data",
     "data": {
      "text/html": [
       "<style scoped>\n",
       "  .table-result-container {\n",
       "    max-height: 300px;\n",
       "    overflow: auto;\n",
       "  }\n",
       "  table, th, td {\n",
       "    border: 1px solid black;\n",
       "    border-collapse: collapse;\n",
       "  }\n",
       "  th, td {\n",
       "    padding: 5px;\n",
       "  }\n",
       "  th {\n",
       "    text-align: left;\n",
       "  }\n",
       "</style><div class='table-result-container'><table class='table-result'><thead style='background-color: white'><tr><th>fixed acidity</th><th>volatile acidity</th><th>citric acid</th><th>residual sugar</th><th>chlorides</th><th>free sulfur dioxide</th><th>total sulfur dioxide</th><th>density</th><th>pH</th><th>sulphates</th><th>alcohol</th><th>quality</th></tr></thead><tbody><tr><td>6.3</td><td>0.3</td><td>0.34</td><td>1.6</td><td>0.049</td><td>14.0</td><td>132.0</td><td>0.994</td><td>3.3</td><td>0.49</td><td>9.5</td><td>6</td></tr><tr><td>8.1</td><td>0.28</td><td>0.4</td><td>6.9</td><td>0.05</td><td>30.0</td><td>97.0</td><td>0.9951</td><td>3.26</td><td>0.44</td><td>10.1</td><td>6</td></tr><tr><td>7.2</td><td>0.23</td><td>0.32</td><td>8.5</td><td>0.058</td><td>47.0</td><td>186.0</td><td>0.9956</td><td>3.19</td><td>0.4</td><td>9.9</td><td>6</td></tr><tr><td>7.2</td><td>0.23</td><td>0.32</td><td>8.5</td><td>0.058</td><td>47.0</td><td>186.0</td><td>0.9956</td><td>3.19</td><td>0.4</td><td>9.9</td><td>6</td></tr><tr><td>8.1</td><td>0.28</td><td>0.4</td><td>6.9</td><td>0.05</td><td>30.0</td><td>97.0</td><td>0.9951</td><td>3.26</td><td>0.44</td><td>10.1</td><td>6</td></tr><tr><td>6.2</td><td>0.32</td><td>0.16</td><td>7.0</td><td>0.045</td><td>30.0</td><td>136.0</td><td>0.9949</td><td>3.18</td><td>0.47</td><td>9.6</td><td>6</td></tr><tr><td>7.0</td><td>0.27</td><td>0.36</td><td>20.7</td><td>0.045</td><td>45.0</td><td>170.0</td><td>1.001</td><td>3.0</td><td>0.45</td><td>8.8</td><td>6</td></tr><tr><td>6.3</td><td>0.3</td><td>0.34</td><td>1.6</td><td>0.049</td><td>14.0</td><td>132.0</td><td>0.994</td><td>3.3</td><td>0.49</td><td>9.5</td><td>6</td></tr><tr><td>8.1</td><td>0.22</td><td>0.43</td><td>1.5</td><td>0.044</td><td>28.0</td><td>129.0</td><td>0.9938</td><td>3.22</td><td>0.45</td><td>11.0</td><td>6</td></tr><tr><td>8.1</td><td>0.27</td><td>0.41</td><td>1.45</td><td>0.033</td><td>11.0</td><td>63.0</td><td>0.9908</td><td>2.99</td><td>0.56</td><td>12.0</td><td>5</td></tr><tr><td>8.6</td><td>0.23</td><td>0.4</td><td>4.2</td><td>0.035</td><td>17.0</td><td>109.0</td><td>0.9947</td><td>3.14</td><td>0.53</td><td>9.7</td><td>5</td></tr><tr><td>7.9</td><td>0.18</td><td>0.37</td><td>1.2</td><td>0.04</td><td>16.0</td><td>75.0</td><td>0.992</td><td>3.18</td><td>0.63</td><td>10.8</td><td>5</td></tr><tr><td>8.3</td><td>0.42</td><td>0.62</td><td>19.25</td><td>0.04</td><td>41.0</td><td>172.0</td><td>1.0002</td><td>2.98</td><td>0.67</td><td>9.7</td><td>5</td></tr><tr><td>6.3</td><td>0.48</td><td>0.04</td><td>1.1</td><td>0.046</td><td>30.0</td><td>99.0</td><td>0.9928</td><td>3.24</td><td>0.36</td><td>9.6</td><td>6</td></tr><tr><td>6.2</td><td>0.66</td><td>0.48</td><td>1.2</td><td>0.029</td><td>29.0</td><td>75.0</td><td>0.9892</td><td>3.33</td><td>0.39</td><td>12.8</td><td>8</td></tr><tr><td>7.4</td><td>0.34</td><td>0.42</td><td>1.1</td><td>0.033</td><td>17.0</td><td>171.0</td><td>0.9917</td><td>3.12</td><td>0.53</td><td>11.3</td><td>6</td></tr><tr><td>6.5</td><td>0.31</td><td>0.14</td><td>7.5</td><td>0.044</td><td>34.0</td><td>133.0</td><td>0.9955</td><td>3.22</td><td>0.5</td><td>9.5</td><td>5</td></tr><tr><td>6.2</td><td>0.66</td><td>0.48</td><td>1.2</td><td>0.029</td><td>29.0</td><td>75.0</td><td>0.9892</td><td>3.33</td><td>0.39</td><td>12.8</td><td>8</td></tr><tr><td>6.8</td><td>0.26</td><td>0.42</td><td>1.7</td><td>0.049</td><td>41.0</td><td>122.0</td><td>0.993</td><td>3.47</td><td>0.48</td><td>10.5</td><td>8</td></tr><tr><td>7.6</td><td>0.67</td><td>0.14</td><td>1.5</td><td>0.074</td><td>25.0</td><td>168.0</td><td>0.9937</td><td>3.05</td><td>0.51</td><td>9.3</td><td>5</td></tr></tbody></table></div>"
      ]
     },
     "metadata": {
      "application/vnd.databricks.v1+output": {
       "addedWidgets": {},
       "aggData": [],
       "aggError": "",
       "aggOverflow": false,
       "aggSchema": [],
       "aggSeriesLimitReached": false,
       "aggType": "",
       "arguments": {},
       "columnCustomDisplayInfos": {},
       "data": [
        [
         6.3,
         0.3,
         0.34,
         1.6,
         0.049,
         14.0,
         132.0,
         0.994,
         3.3,
         0.49,
         9.5,
         6
        ],
        [
         8.1,
         0.28,
         0.4,
         6.9,
         0.05,
         30.0,
         97.0,
         0.9951,
         3.26,
         0.44,
         10.1,
         6
        ],
        [
         7.2,
         0.23,
         0.32,
         8.5,
         0.058,
         47.0,
         186.0,
         0.9956,
         3.19,
         0.4,
         9.9,
         6
        ],
        [
         7.2,
         0.23,
         0.32,
         8.5,
         0.058,
         47.0,
         186.0,
         0.9956,
         3.19,
         0.4,
         9.9,
         6
        ],
        [
         8.1,
         0.28,
         0.4,
         6.9,
         0.05,
         30.0,
         97.0,
         0.9951,
         3.26,
         0.44,
         10.1,
         6
        ],
        [
         6.2,
         0.32,
         0.16,
         7.0,
         0.045,
         30.0,
         136.0,
         0.9949,
         3.18,
         0.47,
         9.6,
         6
        ],
        [
         7.0,
         0.27,
         0.36,
         20.7,
         0.045,
         45.0,
         170.0,
         1.001,
         3.0,
         0.45,
         8.8,
         6
        ],
        [
         6.3,
         0.3,
         0.34,
         1.6,
         0.049,
         14.0,
         132.0,
         0.994,
         3.3,
         0.49,
         9.5,
         6
        ],
        [
         8.1,
         0.22,
         0.43,
         1.5,
         0.044,
         28.0,
         129.0,
         0.9938,
         3.22,
         0.45,
         11.0,
         6
        ],
        [
         8.1,
         0.27,
         0.41,
         1.45,
         0.033,
         11.0,
         63.0,
         0.9908,
         2.99,
         0.56,
         12.0,
         5
        ],
        [
         8.6,
         0.23,
         0.4,
         4.2,
         0.035,
         17.0,
         109.0,
         0.9947,
         3.14,
         0.53,
         9.7,
         5
        ],
        [
         7.9,
         0.18,
         0.37,
         1.2,
         0.04,
         16.0,
         75.0,
         0.992,
         3.18,
         0.63,
         10.8,
         5
        ],
        [
         8.3,
         0.42,
         0.62,
         19.25,
         0.04,
         41.0,
         172.0,
         1.0002,
         2.98,
         0.67,
         9.7,
         5
        ],
        [
         6.3,
         0.48,
         0.04,
         1.1,
         0.046,
         30.0,
         99.0,
         0.9928,
         3.24,
         0.36,
         9.6,
         6
        ],
        [
         6.2,
         0.66,
         0.48,
         1.2,
         0.029,
         29.0,
         75.0,
         0.9892,
         3.33,
         0.39,
         12.8,
         8
        ],
        [
         7.4,
         0.34,
         0.42,
         1.1,
         0.033,
         17.0,
         171.0,
         0.9917,
         3.12,
         0.53,
         11.3,
         6
        ],
        [
         6.5,
         0.31,
         0.14,
         7.5,
         0.044,
         34.0,
         133.0,
         0.9955,
         3.22,
         0.5,
         9.5,
         5
        ],
        [
         6.2,
         0.66,
         0.48,
         1.2,
         0.029,
         29.0,
         75.0,
         0.9892,
         3.33,
         0.39,
         12.8,
         8
        ],
        [
         6.8,
         0.26,
         0.42,
         1.7,
         0.049,
         41.0,
         122.0,
         0.993,
         3.47,
         0.48,
         10.5,
         8
        ],
        [
         7.6,
         0.67,
         0.14,
         1.5,
         0.074,
         25.0,
         168.0,
         0.9937,
         3.05,
         0.51,
         9.3,
         5
        ]
       ],
       "datasetInfos": [],
       "dbfsResultPath": null,
       "isJsonSchema": true,
       "metadata": {},
       "overflow": false,
       "plotOptions": {
        "customPlotOptions": {},
        "displayType": "table",
        "pivotAggregation": null,
        "pivotColumns": null,
        "xColumns": null,
        "yColumns": null
       },
       "removedWidgets": [],
       "schema": [
        {
         "metadata": "{}",
         "name": "fixed acidity",
         "type": "\"double\""
        },
        {
         "metadata": "{}",
         "name": "volatile acidity",
         "type": "\"double\""
        },
        {
         "metadata": "{}",
         "name": "citric acid",
         "type": "\"double\""
        },
        {
         "metadata": "{}",
         "name": "residual sugar",
         "type": "\"double\""
        },
        {
         "metadata": "{}",
         "name": "chlorides",
         "type": "\"double\""
        },
        {
         "metadata": "{}",
         "name": "free sulfur dioxide",
         "type": "\"double\""
        },
        {
         "metadata": "{}",
         "name": "total sulfur dioxide",
         "type": "\"double\""
        },
        {
         "metadata": "{}",
         "name": "density",
         "type": "\"double\""
        },
        {
         "metadata": "{}",
         "name": "pH",
         "type": "\"double\""
        },
        {
         "metadata": "{}",
         "name": "sulphates",
         "type": "\"double\""
        },
        {
         "metadata": "{}",
         "name": "alcohol",
         "type": "\"double\""
        },
        {
         "metadata": "{}",
         "name": "quality",
         "type": "\"integer\""
        }
       ],
       "type": "table"
      }
     },
     "output_type": "display_data"
    }
   ],
   "source": [
    "data_dropmalformed_mode = spark.read.option(\"header\", True).option(\"mode\", \"dropMalformed\").schema(schema).csv(\"/tmp/wine-broken.csv\", sep=\";\")\n",
    "\n",
    "display(data_dropmalformed_mode.limit(20))"
   ]
  },
  {
   "cell_type": "markdown",
   "metadata": {
    "application/vnd.databricks.v1+cell": {
     "cellMetadata": {},
     "inputWidgets": {},
     "nuid": "1b9813e0-7730-4dff-bb37-5bb9862f47a1",
     "showTitle": false,
     "tableResultSettingsMap": {},
     "title": ""
    }
   },
   "source": [
    "### FailFast Mode\n",
    "Throws an error"
   ]
  },
  {
   "cell_type": "code",
   "execution_count": 0,
   "metadata": {
    "application/vnd.databricks.v1+cell": {
     "cellMetadata": {
      "byteLimit": 2048000,
      "rowLimit": 10000
     },
     "inputWidgets": {},
     "nuid": "70ccb2bd-7190-4f08-ab03-02d865a3fa0b",
     "showTitle": false,
     "tableResultSettingsMap": {},
     "title": ""
    }
   },
   "outputs": [
    {
     "output_type": "display_data",
     "data": {
      "text/plain": [
       "org.apache.spark.SparkException: [FAILED_READ_FILE.NO_HINT] Error while reading file dbfs:/tmp/wine-broken.csv/part-00000-tid-3068455712937682682-821c9d02-5335-4947-89a1-20d191fd72ef-54-1-c000.csv.  SQLSTATE: KD001\n",
       "\tat org.apache.spark.sql.errors.QueryExecutionErrors$.cannotReadFilesError(QueryExecutionErrors.scala:1095)\n",
       "\tat org.apache.spark.sql.execution.datasources.FileScanRDD$$anon$1$$anon$2.logErrorFileNameAndThrow(FileScanRDD.scala:784)\n",
       "\tat org.apache.spark.sql.execution.datasources.FileScanRDD$$anon$1$$anon$2.getNext(FileScanRDD.scala:739)\n",
       "\tat org.apache.spark.util.NextIterator.hasNext(NextIterator.scala:73)\n",
       "\tat org.apache.spark.sql.execution.datasources.FileScanRDD$$anon$1.$anonfun$hasNext$1(FileScanRDD.scala:553)\n",
       "\tat scala.runtime.java8.JFunction0$mcZ$sp.apply(JFunction0$mcZ$sp.java:23)\n",
       "\tat com.databricks.spark.util.ExecutorFrameProfiler$.record(ExecutorFrameProfiler.scala:110)\n",
       "\tat org.apache.spark.sql.execution.datasources.FileScanRDD$$anon$1.hasNext(FileScanRDD.scala:546)\n",
       "\tat scala.collection.Iterator$$anon$10.hasNext(Iterator.scala:460)\n",
       "\tat org.apache.spark.sql.execution.collect.UnsafeRowBatchUtils$.$anonfun$encodeUnsafeRows$5(UnsafeRowBatchUtils.scala:88)\n",
       "\tat scala.runtime.java8.JFunction0$mcV$sp.apply(JFunction0$mcV$sp.java:23)\n",
       "\tat com.databricks.spark.util.ExecutorFrameProfiler$.record(ExecutorFrameProfiler.scala:110)\n",
       "\tat org.apache.spark.sql.execution.collect.UnsafeRowBatchUtils$.$anonfun$encodeUnsafeRows$3(UnsafeRowBatchUtils.scala:88)\n",
       "\tat scala.runtime.java8.JFunction0$mcV$sp.apply(JFunction0$mcV$sp.java:23)\n",
       "\tat com.databricks.spark.util.ExecutorFrameProfiler$.record(ExecutorFrameProfiler.scala:110)\n",
       "\tat org.apache.spark.sql.execution.collect.UnsafeRowBatchUtils$.$anonfun$encodeUnsafeRows$1(UnsafeRowBatchUtils.scala:68)\n",
       "\tat com.databricks.spark.util.ExecutorFrameProfiler$.record(ExecutorFrameProfiler.scala:110)\n",
       "\tat org.apache.spark.sql.execution.collect.UnsafeRowBatchUtils$.encodeUnsafeRows(UnsafeRowBatchUtils.scala:62)\n",
       "\tat org.apache.spark.sql.execution.collect.Collector.$anonfun$processFunc$2(Collector.scala:214)\n",
       "\tat org.apache.spark.scheduler.ResultTask.$anonfun$runTask$3(ResultTask.scala:82)\n",
       "\tat com.databricks.spark.util.ExecutorFrameProfiler$.record(ExecutorFrameProfiler.scala:110)\n",
       "\tat org.apache.spark.scheduler.ResultTask.$anonfun$runTask$1(ResultTask.scala:82)\n",
       "\tat com.databricks.spark.util.ExecutorFrameProfiler$.record(ExecutorFrameProfiler.scala:110)\n",
       "\tat org.apache.spark.scheduler.ResultTask.runTask(ResultTask.scala:62)\n",
       "\tat org.apache.spark.TaskContext.runTaskWithListeners(TaskContext.scala:225)\n",
       "\tat org.apache.spark.scheduler.Task.doRunTask(Task.scala:199)\n",
       "\tat org.apache.spark.scheduler.Task.$anonfun$run$5(Task.scala:161)\n",
       "\tat com.databricks.unity.EmptyHandle$.runWithAndClose(UCSHandle.scala:134)\n",
       "\tat org.apache.spark.scheduler.Task.$anonfun$run$1(Task.scala:155)\n",
       "\tat com.databricks.spark.util.ExecutorFrameProfiler$.record(ExecutorFrameProfiler.scala:110)\n",
       "\tat org.apache.spark.scheduler.Task.run(Task.scala:102)\n",
       "\tat org.apache.spark.executor.Executor$TaskRunner.$anonfun$run$10(Executor.scala:1043)\n",
       "\tat org.apache.spark.util.SparkErrorUtils.tryWithSafeFinally(SparkErrorUtils.scala:64)\n",
       "\tat org.apache.spark.util.SparkErrorUtils.tryWithSafeFinally$(SparkErrorUtils.scala:61)\n",
       "\tat org.apache.spark.util.Utils$.tryWithSafeFinally(Utils.scala:111)\n",
       "\tat org.apache.spark.executor.Executor$TaskRunner.$anonfun$run$3(Executor.scala:1046)\n",
       "\tat scala.runtime.java8.JFunction0$mcV$sp.apply(JFunction0$mcV$sp.java:23)\n",
       "\tat com.databricks.spark.util.ExecutorFrameProfiler$.record(ExecutorFrameProfiler.scala:110)\n",
       "\tat org.apache.spark.executor.Executor$TaskRunner.run(Executor.scala:933)\n",
       "\tat java.util.concurrent.ThreadPoolExecutor.runWorker(ThreadPoolExecutor.java:1149)\n",
       "\tat java.util.concurrent.ThreadPoolExecutor$Worker.run(ThreadPoolExecutor.java:624)\n",
       "\tat java.lang.Thread.run(Thread.java:750)\n",
       "\tat org.apache.spark.scheduler.DAGScheduler.$anonfun$runJob$1(DAGScheduler.scala:1412)\n",
       "\tat scala.runtime.java8.JFunction0$mcV$sp.apply(JFunction0$mcV$sp.java:23)\n",
       "\tat com.databricks.spark.util.FrameProfiler$.record(FrameProfiler.scala:94)\n",
       "\tat org.apache.spark.scheduler.DAGScheduler.runJob(DAGScheduler.scala:1400)\n",
       "\tat org.apache.spark.SparkContext.runJobInternal(SparkContext.scala:3168)\n",
       "\tat org.apache.spark.sql.execution.collect.Collector.$anonfun$runSparkJobs$1(Collector.scala:355)\n",
       "\tat scala.runtime.java8.JFunction0$mcV$sp.apply(JFunction0$mcV$sp.java:23)\n",
       "\tat com.databricks.spark.util.FrameProfiler$.record(FrameProfiler.scala:94)\n",
       "\tat org.apache.spark.sql.execution.collect.Collector.runSparkJobs(Collector.scala:299)\n",
       "\tat org.apache.spark.sql.execution.collect.Collector.$anonfun$collect$1(Collector.scala:384)\n",
       "\tat com.databricks.spark.util.FrameProfiler$.record(FrameProfiler.scala:94)\n",
       "\tat org.apache.spark.sql.execution.collect.Collector.collect(Collector.scala:381)\n",
       "\tat org.apache.spark.sql.execution.collect.Collector$.collect(Collector.scala:122)\n",
       "\tat org.apache.spark.sql.execution.collect.Collector$.collect(Collector.scala:131)\n",
       "\tat org.apache.spark.sql.execution.qrc.InternalRowFormat$.collect(cachedSparkResults.scala:94)\n",
       "\tat org.apache.spark.sql.execution.qrc.InternalRowFormat$.collect(cachedSparkResults.scala:90)\n",
       "\tat org.apache.spark.sql.execution.qrc.InternalRowFormat$.collect(cachedSparkResults.scala:78)\n",
       "\tat org.apache.spark.sql.execution.qrc.ResultCacheManager.$anonfun$computeResult$1(ResultCacheManager.scala:552)\n",
       "\tat com.databricks.spark.util.FrameProfiler$.record(FrameProfiler.scala:94)\n",
       "\tat org.apache.spark.sql.execution.qrc.ResultCacheManager.collectResult$1(ResultCacheManager.scala:546)\n",
       "\tat org.apache.spark.sql.execution.qrc.ResultCacheManager.computeResult(ResultCacheManager.scala:563)\n",
       "\tat org.apache.spark.sql.execution.qrc.ResultCacheManager.$anonfun$getOrComputeResultInternal$1(ResultCacheManager.scala:401)\n",
       "\tat scala.Option.getOrElse(Option.scala:189)\n",
       "\tat org.apache.spark.sql.execution.qrc.ResultCacheManager.getOrComputeResultInternal(ResultCacheManager.scala:400)\n",
       "\tat org.apache.spark.sql.execution.qrc.ResultCacheManager.getOrComputeResult(ResultCacheManager.scala:319)\n",
       "\tat org.apache.spark.sql.execution.SparkPlan.$anonfun$executeCollectResult$1(SparkPlan.scala:572)\n",
       "\tat com.databricks.spark.util.FrameProfiler$.record(FrameProfiler.scala:94)\n",
       "\tat org.apache.spark.sql.execution.SparkPlan.executeCollectResult(SparkPlan.scala:569)\n",
       "\tat org.apache.spark.sql.Dataset.collectResult(Dataset.scala:3844)\n",
       "\tat org.apache.spark.sql.Dataset.$anonfun$collectResult$1(Dataset.scala:3835)\n",
       "\tat org.apache.spark.sql.Dataset.$anonfun$withAction$3(Dataset.scala:4807)\n",
       "\tat org.apache.spark.sql.execution.QueryExecution$.withInternalError(QueryExecution.scala:1219)\n",
       "\tat org.apache.spark.sql.Dataset.$anonfun$withAction$2(Dataset.scala:4805)\n",
       "\tat org.apache.spark.sql.execution.SQLExecution$.$anonfun$withNewExecutionId0$10(SQLExecution.scala:475)\n",
       "\tat org.apache.spark.sql.execution.SQLExecution$.withSQLConfPropagated(SQLExecution.scala:813)\n",
       "\tat org.apache.spark.sql.execution.SQLExecution$.$anonfun$withNewExecutionId0$1(SQLExecution.scala:334)\n",
       "\tat org.apache.spark.sql.SparkSession.withActive(SparkSession.scala:1210)\n",
       "\tat org.apache.spark.sql.execution.SQLExecution$.withNewExecutionId0(SQLExecution.scala:205)\n",
       "\tat org.apache.spark.sql.execution.SQLExecution$.withNewExecutionId(SQLExecution.scala:750)\n",
       "\tat org.apache.spark.sql.Dataset.withAction(Dataset.scala:4805)\n",
       "\tat org.apache.spark.sql.Dataset.collectResult(Dataset.scala:3834)\n",
       "\tat com.databricks.backend.daemon.driver.OutputAggregator$.withOutputAggregation0(OutputAggregator.scala:325)\n",
       "\tat com.databricks.backend.daemon.driver.OutputAggregator$.withOutputAggregation(OutputAggregator.scala:101)\n",
       "\tat com.databricks.backend.daemon.driver.PythonDriverLocalBase.generateTableResult(PythonDriverLocalBase.scala:876)\n",
       "\tat com.databricks.backend.daemon.driver.JupyterDriverLocal.computeListResultsItem(JupyterDriverLocal.scala:1577)\n",
       "\tat com.databricks.backend.daemon.driver.JupyterDriverLocal$JupyterEntryPoint.addCustomDisplayData(JupyterDriverLocal.scala:286)\n",
       "\tat sun.reflect.GeneratedMethodAccessor882.invoke(Unknown Source)\n",
       "\tat sun.reflect.DelegatingMethodAccessorImpl.invoke(DelegatingMethodAccessorImpl.java:43)\n",
       "\tat java.lang.reflect.Method.invoke(Method.java:498)\n",
       "\tat py4j.reflection.MethodInvoker.invoke(MethodInvoker.java:244)\n",
       "\tat py4j.reflection.ReflectionEngine.invoke(ReflectionEngine.java:397)\n",
       "\tat py4j.Gateway.invoke(Gateway.java:306)\n",
       "\tat py4j.commands.AbstractCommand.invokeMethod(AbstractCommand.java:132)\n",
       "\tat py4j.commands.CallCommand.execute(CallCommand.java:79)\n",
       "\tat py4j.ClientServerConnection.waitForCommands(ClientServerConnection.java:199)\n",
       "\tat py4j.ClientServerConnection.run(ClientServerConnection.java:119)\n",
       "\tat java.lang.Thread.run(Thread.java:750)\n",
       "Caused by: org.apache.spark.SparkException: [MALFORMED_RECORD_IN_PARSING.WITHOUT_SUGGESTION] Malformed records are detected in record parsing: [6.6,0.16,0.4,1.5,0.044,48.0,143.0,0.9912,3.54,0.52,12.4,null].\n",
       "Parse Mode: FAILFAST. To process malformed records as null result, try setting the option 'mode' as 'PERMISSIVE'.  SQLSTATE: 22023\n",
       "\tat org.apache.spark.sql.errors.QueryExecutionErrors$.malformedRecordsDetectedInRecordParsingError(QueryExecutionErrors.scala:1900)\n",
       "\tat org.apache.spark.sql.catalyst.util.FailureSafeParser.throwMalformedRecordsDetectedInRecordParsingError(FailureSafeParser.scala:131)\n",
       "\tat org.apache.spark.sql.catalyst.util.FailureSafeParser.parse(FailureSafeParser.scala:122)\n",
       "\tat org.apache.spark.sql.catalyst.csv.UnivocityParser$.$anonfun$parseIterator$2(UnivocityParser.scala:512)\n",
       "\tat scala.collection.Iterator$$anon$11.nextCur(Iterator.scala:486)\n",
       "\tat scala.collection.Iterator$$anon$11.hasNext(Iterator.scala:492)\n",
       "\tat org.apache.spark.util.CompletionIterator.hasNext(CompletionIterator.scala:31)\n",
       "\tat scala.collection.Iterator$$anon$10.hasNext(Iterator.scala:460)\n",
       "\tat org.apache.spark.sql.execution.datasources.FileScanRDD$$anon$1$$anon$2.getNext(FileScanRDD.scala:657)\n",
       "\tat org.apache.spark.util.NextIterator.hasNext(NextIterator.scala:73)\n",
       "\tat org.apache.spark.sql.execution.datasources.FileScanRDD$$anon$1.$anonfun$hasNext$1(FileScanRDD.scala:553)\n",
       "\tat scala.runtime.java8.JFunction0$mcZ$sp.apply(JFunction0$mcZ$sp.java:23)\n",
       "\tat com.databricks.spark.util.ExecutorFrameProfiler$.record(ExecutorFrameProfiler.scala:110)\n",
       "\tat org.apache.spark.sql.execution.datasources.FileScanRDD$$anon$1.hasNext(FileScanRDD.scala:546)\n",
       "\tat scala.collection.Iterator$$anon$10.hasNext(Iterator.scala:460)\n",
       "\tat org.apache.spark.sql.execution.collect.UnsafeRowBatchUtils$.$anonfun$encodeUnsafeRows$5(UnsafeRowBatchUtils.scala:88)\n",
       "\tat scala.runtime.java8.JFunction0$mcV$sp.apply(JFunction0$mcV$sp.java:23)\n",
       "\tat com.databricks.spark.util.ExecutorFrameProfiler$.record(ExecutorFrameProfiler.scala:110)\n",
       "\tat org.apache.spark.sql.execution.collect.UnsafeRowBatchUtils$.$anonfun$encodeUnsafeRows$3(UnsafeRowBatchUtils.scala:88)\n",
       "\tat scala.runtime.java8.JFunction0$mcV$sp.apply(JFunction0$mcV$sp.java:23)\n",
       "\tat com.databricks.spark.util.ExecutorFrameProfiler$.record(ExecutorFrameProfiler.scala:110)\n",
       "\tat org.apache.spark.sql.execution.collect.UnsafeRowBatchUtils$.$anonfun$encodeUnsafeRows$1(UnsafeRowBatchUtils.scala:68)\n",
       "\tat com.databricks.spark.util.ExecutorFrameProfiler$.record(ExecutorFrameProfiler.scala:110)\n",
       "\tat org.apache.spark.sql.execution.collect.UnsafeRowBatchUtils$.encodeUnsafeRows(UnsafeRowBatchUtils.scala:62)\n",
       "\tat org.apache.spark.sql.execution.collect.Collector.$anonfun$processFunc$2(Collector.scala:214)\n",
       "\tat org.apache.spark.scheduler.ResultTask.$anonfun$runTask$3(ResultTask.scala:82)\n",
       "\tat com.databricks.spark.util.ExecutorFrameProfiler$.record(ExecutorFrameProfiler.scala:110)\n",
       "\tat org.apache.spark.scheduler.ResultTask.$anonfun$runTask$1(ResultTask.scala:82)\n",
       "\tat com.databricks.spark.util.ExecutorFrameProfiler$.record(ExecutorFrameProfiler.scala:110)\n",
       "\tat org.apache.spark.scheduler.ResultTask.runTask(ResultTask.scala:62)\n",
       "\tat org.apache.spark.TaskContext.runTaskWithListeners(TaskContext.scala:225)\n",
       "\tat org.apache.spark.scheduler.Task.doRunTask(Task.scala:199)\n",
       "\tat org.apache.spark.scheduler.Task.$anonfun$run$5(Task.scala:161)\n",
       "\tat com.databricks.unity.EmptyHandle$.runWithAndClose(UCSHandle.scala:134)\n",
       "\tat org.apache.spark.scheduler.Task.$anonfun$run$1(Task.scala:155)\n",
       "\tat com.databricks.spark.util.ExecutorFrameProfiler$.record(ExecutorFrameProfiler.scala:110)\n",
       "\tat org.apache.spark.scheduler.Task.run(Task.scala:102)\n",
       "\tat org.apache.spark.executor.Executor$TaskRunner.$anonfun$run$10(Executor.scala:1043)\n",
       "\tat org.apache.spark.util.SparkErrorUtils.tryWithSafeFinally(SparkErrorUtils.scala:64)\n",
       "\tat org.apache.spark.util.SparkErrorUtils.tryWithSafeFinally$(SparkErrorUtils.scala:61)\n",
       "\tat org.apache.spark.util.Utils$.tryWithSafeFinally(Utils.scala:111)\n",
       "\tat org.apache.spark.executor.Executor$TaskRunner.$anonfun$run$3(Executor.scala:1046)\n",
       "\tat scala.runtime.java8.JFunction0$mcV$sp.apply(JFunction0$mcV$sp.java:23)\n",
       "\tat com.databricks.spark.util.ExecutorFrameProfiler$.record(ExecutorFrameProfiler.scala:110)\n",
       "\tat org.apache.spark.executor.Executor$TaskRunner.run(Executor.scala:933)\n",
       "\tat java.util.concurrent.ThreadPoolExecutor.runWorker(ThreadPoolExecutor.java:1149)\n",
       "\tat java.util.concurrent.ThreadPoolExecutor$Worker.run(ThreadPoolExecutor.java:624)\n",
       "\t... 1 more\n",
       "Caused by: java.lang.NumberFormatException: For input string: \"a\"\n",
       "\tat java.lang.NumberFormatException.forInputString(NumberFormatException.java:65)\n",
       "\tat java.lang.Integer.parseInt(Integer.java:580)\n",
       "\tat java.lang.Integer.parseInt(Integer.java:615)\n",
       "\tat scala.collection.immutable.StringLike.toInt(StringLike.scala:304)\n",
       "\tat scala.collection.immutable.StringLike.toInt$(StringLike.scala:304)\n",
       "\tat scala.collection.immutable.StringOps.toInt(StringOps.scala:33)\n",
       "\tat org.apache.spark.sql.catalyst.csv.UnivocityParser.$anonfun$makeConverter$6(UnivocityParser.scala:205)\n",
       "\tat org.apache.spark.sql.catalyst.csv.UnivocityParser.$anonfun$makeConverter$6$adapted(UnivocityParser.scala:205)\n",
       "\tat org.apache.spark.sql.catalyst.csv.UnivocityParser.nullSafeDatum(UnivocityParser.scala:309)\n",
       "\tat org.apache.spark.sql.catalyst.csv.UnivocityParser.$anonfun$makeConverter$5(UnivocityParser.scala:205)\n",
       "\tat org.apache.spark.sql.catalyst.csv.UnivocityParser.convert(UnivocityParser.scala:365)\n",
       "\tat org.apache.spark.sql.catalyst.csv.UnivocityParser.$anonfun$parse$2(UnivocityParser.scala:325)\n",
       "\tat org.apache.spark.sql.catalyst.csv.UnivocityParser$.$anonfun$parseIterator$1(UnivocityParser.scala:504)\n",
       "\tat org.apache.spark.sql.catalyst.util.FailureSafeParser.parse(FailureSafeParser.scala:92)\n",
       "\t... 45 more\n"
      ]
     },
     "metadata": {
      "application/vnd.databricks.v1+output": {
       "addedWidgets": {},
       "arguments": {},
       "datasetInfos": [],
       "jupyterProps": null,
       "metadata": {
        "errorSummary": "[FAILED_READ_FILE.NO_HINT] Error while reading file dbfs:/tmp/wine-broken.csv/part-00000-tid-3068455712937682682-821c9d02-5335-4947-89a1-20d191fd72ef-54-1-c000.csv.  SQLSTATE: KD001"
       },
       "removedWidgets": [],
       "sqlProps": {
        "errorClass": "FAILED_READ_FILE.NO_HINT",
        "pysparkCallSite": null,
        "pysparkFragment": null,
        "sqlState": "KD001",
        "stackTrace": null,
        "startIndex": null,
        "stopIndex": null
       },
       "stackFrames": [
        "org.apache.spark.SparkException: [FAILED_READ_FILE.NO_HINT] Error while reading file dbfs:/tmp/wine-broken.csv/part-00000-tid-3068455712937682682-821c9d02-5335-4947-89a1-20d191fd72ef-54-1-c000.csv.  SQLSTATE: KD001\n\tat org.apache.spark.sql.errors.QueryExecutionErrors$.cannotReadFilesError(QueryExecutionErrors.scala:1095)\n\tat org.apache.spark.sql.execution.datasources.FileScanRDD$$anon$1$$anon$2.logErrorFileNameAndThrow(FileScanRDD.scala:784)\n\tat org.apache.spark.sql.execution.datasources.FileScanRDD$$anon$1$$anon$2.getNext(FileScanRDD.scala:739)\n\tat org.apache.spark.util.NextIterator.hasNext(NextIterator.scala:73)\n\tat org.apache.spark.sql.execution.datasources.FileScanRDD$$anon$1.$anonfun$hasNext$1(FileScanRDD.scala:553)\n\tat scala.runtime.java8.JFunction0$mcZ$sp.apply(JFunction0$mcZ$sp.java:23)\n\tat com.databricks.spark.util.ExecutorFrameProfiler$.record(ExecutorFrameProfiler.scala:110)\n\tat org.apache.spark.sql.execution.datasources.FileScanRDD$$anon$1.hasNext(FileScanRDD.scala:546)\n\tat scala.collection.Iterator$$anon$10.hasNext(Iterator.scala:460)\n\tat org.apache.spark.sql.execution.collect.UnsafeRowBatchUtils$.$anonfun$encodeUnsafeRows$5(UnsafeRowBatchUtils.scala:88)\n\tat scala.runtime.java8.JFunction0$mcV$sp.apply(JFunction0$mcV$sp.java:23)\n\tat com.databricks.spark.util.ExecutorFrameProfiler$.record(ExecutorFrameProfiler.scala:110)\n\tat org.apache.spark.sql.execution.collect.UnsafeRowBatchUtils$.$anonfun$encodeUnsafeRows$3(UnsafeRowBatchUtils.scala:88)\n\tat scala.runtime.java8.JFunction0$mcV$sp.apply(JFunction0$mcV$sp.java:23)\n\tat com.databricks.spark.util.ExecutorFrameProfiler$.record(ExecutorFrameProfiler.scala:110)\n\tat org.apache.spark.sql.execution.collect.UnsafeRowBatchUtils$.$anonfun$encodeUnsafeRows$1(UnsafeRowBatchUtils.scala:68)\n\tat com.databricks.spark.util.ExecutorFrameProfiler$.record(ExecutorFrameProfiler.scala:110)\n\tat org.apache.spark.sql.execution.collect.UnsafeRowBatchUtils$.encodeUnsafeRows(UnsafeRowBatchUtils.scala:62)\n\tat org.apache.spark.sql.execution.collect.Collector.$anonfun$processFunc$2(Collector.scala:214)\n\tat org.apache.spark.scheduler.ResultTask.$anonfun$runTask$3(ResultTask.scala:82)\n\tat com.databricks.spark.util.ExecutorFrameProfiler$.record(ExecutorFrameProfiler.scala:110)\n\tat org.apache.spark.scheduler.ResultTask.$anonfun$runTask$1(ResultTask.scala:82)\n\tat com.databricks.spark.util.ExecutorFrameProfiler$.record(ExecutorFrameProfiler.scala:110)\n\tat org.apache.spark.scheduler.ResultTask.runTask(ResultTask.scala:62)\n\tat org.apache.spark.TaskContext.runTaskWithListeners(TaskContext.scala:225)\n\tat org.apache.spark.scheduler.Task.doRunTask(Task.scala:199)\n\tat org.apache.spark.scheduler.Task.$anonfun$run$5(Task.scala:161)\n\tat com.databricks.unity.EmptyHandle$.runWithAndClose(UCSHandle.scala:134)\n\tat org.apache.spark.scheduler.Task.$anonfun$run$1(Task.scala:155)\n\tat com.databricks.spark.util.ExecutorFrameProfiler$.record(ExecutorFrameProfiler.scala:110)\n\tat org.apache.spark.scheduler.Task.run(Task.scala:102)\n\tat org.apache.spark.executor.Executor$TaskRunner.$anonfun$run$10(Executor.scala:1043)\n\tat org.apache.spark.util.SparkErrorUtils.tryWithSafeFinally(SparkErrorUtils.scala:64)\n\tat org.apache.spark.util.SparkErrorUtils.tryWithSafeFinally$(SparkErrorUtils.scala:61)\n\tat org.apache.spark.util.Utils$.tryWithSafeFinally(Utils.scala:111)\n\tat org.apache.spark.executor.Executor$TaskRunner.$anonfun$run$3(Executor.scala:1046)\n\tat scala.runtime.java8.JFunction0$mcV$sp.apply(JFunction0$mcV$sp.java:23)\n\tat com.databricks.spark.util.ExecutorFrameProfiler$.record(ExecutorFrameProfiler.scala:110)\n\tat org.apache.spark.executor.Executor$TaskRunner.run(Executor.scala:933)\n\tat java.util.concurrent.ThreadPoolExecutor.runWorker(ThreadPoolExecutor.java:1149)\n\tat java.util.concurrent.ThreadPoolExecutor$Worker.run(ThreadPoolExecutor.java:624)\n\tat java.lang.Thread.run(Thread.java:750)\n\tat org.apache.spark.scheduler.DAGScheduler.$anonfun$runJob$1(DAGScheduler.scala:1412)\n\tat scala.runtime.java8.JFunction0$mcV$sp.apply(JFunction0$mcV$sp.java:23)\n\tat com.databricks.spark.util.FrameProfiler$.record(FrameProfiler.scala:94)\n\tat org.apache.spark.scheduler.DAGScheduler.runJob(DAGScheduler.scala:1400)\n\tat org.apache.spark.SparkContext.runJobInternal(SparkContext.scala:3168)\n\tat org.apache.spark.sql.execution.collect.Collector.$anonfun$runSparkJobs$1(Collector.scala:355)\n\tat scala.runtime.java8.JFunction0$mcV$sp.apply(JFunction0$mcV$sp.java:23)\n\tat com.databricks.spark.util.FrameProfiler$.record(FrameProfiler.scala:94)\n\tat org.apache.spark.sql.execution.collect.Collector.runSparkJobs(Collector.scala:299)\n\tat org.apache.spark.sql.execution.collect.Collector.$anonfun$collect$1(Collector.scala:384)\n\tat com.databricks.spark.util.FrameProfiler$.record(FrameProfiler.scala:94)\n\tat org.apache.spark.sql.execution.collect.Collector.collect(Collector.scala:381)\n\tat org.apache.spark.sql.execution.collect.Collector$.collect(Collector.scala:122)\n\tat org.apache.spark.sql.execution.collect.Collector$.collect(Collector.scala:131)\n\tat org.apache.spark.sql.execution.qrc.InternalRowFormat$.collect(cachedSparkResults.scala:94)\n\tat org.apache.spark.sql.execution.qrc.InternalRowFormat$.collect(cachedSparkResults.scala:90)\n\tat org.apache.spark.sql.execution.qrc.InternalRowFormat$.collect(cachedSparkResults.scala:78)\n\tat org.apache.spark.sql.execution.qrc.ResultCacheManager.$anonfun$computeResult$1(ResultCacheManager.scala:552)\n\tat com.databricks.spark.util.FrameProfiler$.record(FrameProfiler.scala:94)\n\tat org.apache.spark.sql.execution.qrc.ResultCacheManager.collectResult$1(ResultCacheManager.scala:546)\n\tat org.apache.spark.sql.execution.qrc.ResultCacheManager.computeResult(ResultCacheManager.scala:563)\n\tat org.apache.spark.sql.execution.qrc.ResultCacheManager.$anonfun$getOrComputeResultInternal$1(ResultCacheManager.scala:401)\n\tat scala.Option.getOrElse(Option.scala:189)\n\tat org.apache.spark.sql.execution.qrc.ResultCacheManager.getOrComputeResultInternal(ResultCacheManager.scala:400)\n\tat org.apache.spark.sql.execution.qrc.ResultCacheManager.getOrComputeResult(ResultCacheManager.scala:319)\n\tat org.apache.spark.sql.execution.SparkPlan.$anonfun$executeCollectResult$1(SparkPlan.scala:572)\n\tat com.databricks.spark.util.FrameProfiler$.record(FrameProfiler.scala:94)\n\tat org.apache.spark.sql.execution.SparkPlan.executeCollectResult(SparkPlan.scala:569)\n\tat org.apache.spark.sql.Dataset.collectResult(Dataset.scala:3844)\n\tat org.apache.spark.sql.Dataset.$anonfun$collectResult$1(Dataset.scala:3835)\n\tat org.apache.spark.sql.Dataset.$anonfun$withAction$3(Dataset.scala:4807)\n\tat org.apache.spark.sql.execution.QueryExecution$.withInternalError(QueryExecution.scala:1219)\n\tat org.apache.spark.sql.Dataset.$anonfun$withAction$2(Dataset.scala:4805)\n\tat org.apache.spark.sql.execution.SQLExecution$.$anonfun$withNewExecutionId0$10(SQLExecution.scala:475)\n\tat org.apache.spark.sql.execution.SQLExecution$.withSQLConfPropagated(SQLExecution.scala:813)\n\tat org.apache.spark.sql.execution.SQLExecution$.$anonfun$withNewExecutionId0$1(SQLExecution.scala:334)\n\tat org.apache.spark.sql.SparkSession.withActive(SparkSession.scala:1210)\n\tat org.apache.spark.sql.execution.SQLExecution$.withNewExecutionId0(SQLExecution.scala:205)\n\tat org.apache.spark.sql.execution.SQLExecution$.withNewExecutionId(SQLExecution.scala:750)\n\tat org.apache.spark.sql.Dataset.withAction(Dataset.scala:4805)\n\tat org.apache.spark.sql.Dataset.collectResult(Dataset.scala:3834)\n\tat com.databricks.backend.daemon.driver.OutputAggregator$.withOutputAggregation0(OutputAggregator.scala:325)\n\tat com.databricks.backend.daemon.driver.OutputAggregator$.withOutputAggregation(OutputAggregator.scala:101)\n\tat com.databricks.backend.daemon.driver.PythonDriverLocalBase.generateTableResult(PythonDriverLocalBase.scala:876)\n\tat com.databricks.backend.daemon.driver.JupyterDriverLocal.computeListResultsItem(JupyterDriverLocal.scala:1577)\n\tat com.databricks.backend.daemon.driver.JupyterDriverLocal$JupyterEntryPoint.addCustomDisplayData(JupyterDriverLocal.scala:286)\n\tat sun.reflect.GeneratedMethodAccessor882.invoke(Unknown Source)\n\tat sun.reflect.DelegatingMethodAccessorImpl.invoke(DelegatingMethodAccessorImpl.java:43)\n\tat java.lang.reflect.Method.invoke(Method.java:498)\n\tat py4j.reflection.MethodInvoker.invoke(MethodInvoker.java:244)\n\tat py4j.reflection.ReflectionEngine.invoke(ReflectionEngine.java:397)\n\tat py4j.Gateway.invoke(Gateway.java:306)\n\tat py4j.commands.AbstractCommand.invokeMethod(AbstractCommand.java:132)\n\tat py4j.commands.CallCommand.execute(CallCommand.java:79)\n\tat py4j.ClientServerConnection.waitForCommands(ClientServerConnection.java:199)\n\tat py4j.ClientServerConnection.run(ClientServerConnection.java:119)\n\tat java.lang.Thread.run(Thread.java:750)\nCaused by: org.apache.spark.SparkException: [MALFORMED_RECORD_IN_PARSING.WITHOUT_SUGGESTION] Malformed records are detected in record parsing: [6.6,0.16,0.4,1.5,0.044,48.0,143.0,0.9912,3.54,0.52,12.4,null].\nParse Mode: FAILFAST. To process malformed records as null result, try setting the option 'mode' as 'PERMISSIVE'.  SQLSTATE: 22023\n\tat org.apache.spark.sql.errors.QueryExecutionErrors$.malformedRecordsDetectedInRecordParsingError(QueryExecutionErrors.scala:1900)\n\tat org.apache.spark.sql.catalyst.util.FailureSafeParser.throwMalformedRecordsDetectedInRecordParsingError(FailureSafeParser.scala:131)\n\tat org.apache.spark.sql.catalyst.util.FailureSafeParser.parse(FailureSafeParser.scala:122)\n\tat org.apache.spark.sql.catalyst.csv.UnivocityParser$.$anonfun$parseIterator$2(UnivocityParser.scala:512)\n\tat scala.collection.Iterator$$anon$11.nextCur(Iterator.scala:486)\n\tat scala.collection.Iterator$$anon$11.hasNext(Iterator.scala:492)\n\tat org.apache.spark.util.CompletionIterator.hasNext(CompletionIterator.scala:31)\n\tat scala.collection.Iterator$$anon$10.hasNext(Iterator.scala:460)\n\tat org.apache.spark.sql.execution.datasources.FileScanRDD$$anon$1$$anon$2.getNext(FileScanRDD.scala:657)\n\tat org.apache.spark.util.NextIterator.hasNext(NextIterator.scala:73)\n\tat org.apache.spark.sql.execution.datasources.FileScanRDD$$anon$1.$anonfun$hasNext$1(FileScanRDD.scala:553)\n\tat scala.runtime.java8.JFunction0$mcZ$sp.apply(JFunction0$mcZ$sp.java:23)\n\tat com.databricks.spark.util.ExecutorFrameProfiler$.record(ExecutorFrameProfiler.scala:110)\n\tat org.apache.spark.sql.execution.datasources.FileScanRDD$$anon$1.hasNext(FileScanRDD.scala:546)\n\tat scala.collection.Iterator$$anon$10.hasNext(Iterator.scala:460)\n\tat org.apache.spark.sql.execution.collect.UnsafeRowBatchUtils$.$anonfun$encodeUnsafeRows$5(UnsafeRowBatchUtils.scala:88)\n\tat scala.runtime.java8.JFunction0$mcV$sp.apply(JFunction0$mcV$sp.java:23)\n\tat com.databricks.spark.util.ExecutorFrameProfiler$.record(ExecutorFrameProfiler.scala:110)\n\tat org.apache.spark.sql.execution.collect.UnsafeRowBatchUtils$.$anonfun$encodeUnsafeRows$3(UnsafeRowBatchUtils.scala:88)\n\tat scala.runtime.java8.JFunction0$mcV$sp.apply(JFunction0$mcV$sp.java:23)\n\tat com.databricks.spark.util.ExecutorFrameProfiler$.record(ExecutorFrameProfiler.scala:110)\n\tat org.apache.spark.sql.execution.collect.UnsafeRowBatchUtils$.$anonfun$encodeUnsafeRows$1(UnsafeRowBatchUtils.scala:68)\n\tat com.databricks.spark.util.ExecutorFrameProfiler$.record(ExecutorFrameProfiler.scala:110)\n\tat org.apache.spark.sql.execution.collect.UnsafeRowBatchUtils$.encodeUnsafeRows(UnsafeRowBatchUtils.scala:62)\n\tat org.apache.spark.sql.execution.collect.Collector.$anonfun$processFunc$2(Collector.scala:214)\n\tat org.apache.spark.scheduler.ResultTask.$anonfun$runTask$3(ResultTask.scala:82)\n\tat com.databricks.spark.util.ExecutorFrameProfiler$.record(ExecutorFrameProfiler.scala:110)\n\tat org.apache.spark.scheduler.ResultTask.$anonfun$runTask$1(ResultTask.scala:82)\n\tat com.databricks.spark.util.ExecutorFrameProfiler$.record(ExecutorFrameProfiler.scala:110)\n\tat org.apache.spark.scheduler.ResultTask.runTask(ResultTask.scala:62)\n\tat org.apache.spark.TaskContext.runTaskWithListeners(TaskContext.scala:225)\n\tat org.apache.spark.scheduler.Task.doRunTask(Task.scala:199)\n\tat org.apache.spark.scheduler.Task.$anonfun$run$5(Task.scala:161)\n\tat com.databricks.unity.EmptyHandle$.runWithAndClose(UCSHandle.scala:134)\n\tat org.apache.spark.scheduler.Task.$anonfun$run$1(Task.scala:155)\n\tat com.databricks.spark.util.ExecutorFrameProfiler$.record(ExecutorFrameProfiler.scala:110)\n\tat org.apache.spark.scheduler.Task.run(Task.scala:102)\n\tat org.apache.spark.executor.Executor$TaskRunner.$anonfun$run$10(Executor.scala:1043)\n\tat org.apache.spark.util.SparkErrorUtils.tryWithSafeFinally(SparkErrorUtils.scala:64)\n\tat org.apache.spark.util.SparkErrorUtils.tryWithSafeFinally$(SparkErrorUtils.scala:61)\n\tat org.apache.spark.util.Utils$.tryWithSafeFinally(Utils.scala:111)\n\tat org.apache.spark.executor.Executor$TaskRunner.$anonfun$run$3(Executor.scala:1046)\n\tat scala.runtime.java8.JFunction0$mcV$sp.apply(JFunction0$mcV$sp.java:23)\n\tat com.databricks.spark.util.ExecutorFrameProfiler$.record(ExecutorFrameProfiler.scala:110)\n\tat org.apache.spark.executor.Executor$TaskRunner.run(Executor.scala:933)\n\tat java.util.concurrent.ThreadPoolExecutor.runWorker(ThreadPoolExecutor.java:1149)\n\tat java.util.concurrent.ThreadPoolExecutor$Worker.run(ThreadPoolExecutor.java:624)\n\t... 1 more\nCaused by: java.lang.NumberFormatException: For input string: \"a\"\n\tat java.lang.NumberFormatException.forInputString(NumberFormatException.java:65)\n\tat java.lang.Integer.parseInt(Integer.java:580)\n\tat java.lang.Integer.parseInt(Integer.java:615)\n\tat scala.collection.immutable.StringLike.toInt(StringLike.scala:304)\n\tat scala.collection.immutable.StringLike.toInt$(StringLike.scala:304)\n\tat scala.collection.immutable.StringOps.toInt(StringOps.scala:33)\n\tat org.apache.spark.sql.catalyst.csv.UnivocityParser.$anonfun$makeConverter$6(UnivocityParser.scala:205)\n\tat org.apache.spark.sql.catalyst.csv.UnivocityParser.$anonfun$makeConverter$6$adapted(UnivocityParser.scala:205)\n\tat org.apache.spark.sql.catalyst.csv.UnivocityParser.nullSafeDatum(UnivocityParser.scala:309)\n\tat org.apache.spark.sql.catalyst.csv.UnivocityParser.$anonfun$makeConverter$5(UnivocityParser.scala:205)\n\tat org.apache.spark.sql.catalyst.csv.UnivocityParser.convert(UnivocityParser.scala:365)\n\tat org.apache.spark.sql.catalyst.csv.UnivocityParser.$anonfun$parse$2(UnivocityParser.scala:325)\n\tat org.apache.spark.sql.catalyst.csv.UnivocityParser$.$anonfun$parseIterator$1(UnivocityParser.scala:504)\n\tat org.apache.spark.sql.catalyst.util.FailureSafeParser.parse(FailureSafeParser.scala:92)\n\t... 45 more\n"
       ],
       "type": "baseError"
      }
     },
     "output_type": "display_data"
    }
   ],
   "source": [
    "data_failfast_mode = spark.read.option(\"header\", True).option(\"mode\", \"failFast\").schema(schema).csv(\"/tmp/wine-broken.csv\", sep=\";\")\n",
    "\n",
    "display(data_failfast_mode.limit(20))"
   ]
  },
  {
   "cell_type": "code",
   "execution_count": 0,
   "metadata": {
    "application/vnd.databricks.v1+cell": {
     "cellMetadata": {
      "byteLimit": 2048000,
      "rowLimit": 10000
     },
     "inputWidgets": {},
     "nuid": "bf0f44aa-4cb6-429d-b59d-42f547ac9657",
     "showTitle": false,
     "tableResultSettingsMap": {},
     "title": ""
    }
   },
   "outputs": [],
   "source": [
    "data.write.parquet(\"dbfs:/tmp/wine-broken.parquet\", mode=\"overwrite\")\n",
    "data.write.parquet(\"dbfs:/tmp/wine-broken.json\", mode=\"overwrite\")"
   ]
  },
  {
   "cell_type": "code",
   "execution_count": 0,
   "metadata": {
    "application/vnd.databricks.v1+cell": {
     "cellMetadata": {
      "byteLimit": 2048000,
      "rowLimit": 10000
     },
     "inputWidgets": {},
     "nuid": "d7d32279-be47-4092-8461-7093ed741c03",
     "showTitle": false,
     "tableResultSettingsMap": {},
     "title": ""
    }
   },
   "outputs": [
    {
     "output_type": "display_data",
     "data": {
      "text/html": [
       "<style scoped>\n",
       "  .table-result-container {\n",
       "    max-height: 300px;\n",
       "    overflow: auto;\n",
       "  }\n",
       "  table, th, td {\n",
       "    border: 1px solid black;\n",
       "    border-collapse: collapse;\n",
       "  }\n",
       "  th, td {\n",
       "    padding: 5px;\n",
       "  }\n",
       "  th {\n",
       "    text-align: left;\n",
       "  }\n",
       "</style><div class='table-result-container'><table class='table-result'><thead style='background-color: white'><tr><th>fixed acidity</th><th>volatile acidity</th><th>citric acid</th><th>residual sugar</th><th>chlorides</th><th>free sulfur dioxide</th><th>total sulfur dioxide</th><th>density</th><th>pH</th><th>sulphates</th><th>alcohol</th><th>quality</th></tr></thead><tbody><tr><td>7.0</td><td>0.27</td><td>0.36</td><td>20.7</td><td>0.045</td><td>45.0</td><td>170.0</td><td>1.001</td><td>3.0</td><td>0.45</td><td>8.8</td><td>6</td></tr><tr><td>6.3</td><td>0.3</td><td>0.34</td><td>1.6</td><td>0.049</td><td>14.0</td><td>132.0</td><td>0.994</td><td>3.3</td><td>0.49</td><td>9.5</td><td>6</td></tr><tr><td>8.1</td><td>0.28</td><td>0.4</td><td>6.9</td><td>0.05</td><td>30.0</td><td>97.0</td><td>0.9951</td><td>3.26</td><td>0.44</td><td>10.1</td><td>6</td></tr><tr><td>7.2</td><td>0.23</td><td>0.32</td><td>8.5</td><td>0.058</td><td>47.0</td><td>186.0</td><td>0.9956</td><td>3.19</td><td>0.4</td><td>9.9</td><td>6</td></tr><tr><td>7.2</td><td>0.23</td><td>0.32</td><td>8.5</td><td>0.058</td><td>47.0</td><td>186.0</td><td>0.9956</td><td>3.19</td><td>0.4</td><td>9.9</td><td>6</td></tr><tr><td>8.1</td><td>0.28</td><td>0.4</td><td>6.9</td><td>0.05</td><td>30.0</td><td>97.0</td><td>0.9951</td><td>3.26</td><td>0.44</td><td>10.1</td><td>6</td></tr><tr><td>6.2</td><td>0.32</td><td>0.16</td><td>7.0</td><td>0.045</td><td>30.0</td><td>136.0</td><td>0.9949</td><td>3.18</td><td>0.47</td><td>9.6</td><td>6</td></tr><tr><td>7.0</td><td>0.27</td><td>0.36</td><td>20.7</td><td>0.045</td><td>45.0</td><td>170.0</td><td>1.001</td><td>3.0</td><td>0.45</td><td>8.8</td><td>6</td></tr><tr><td>6.3</td><td>0.3</td><td>0.34</td><td>1.6</td><td>0.049</td><td>14.0</td><td>132.0</td><td>0.994</td><td>3.3</td><td>0.49</td><td>9.5</td><td>6</td></tr><tr><td>8.1</td><td>0.22</td><td>0.43</td><td>1.5</td><td>0.044</td><td>28.0</td><td>129.0</td><td>0.9938</td><td>3.22</td><td>0.45</td><td>11.0</td><td>6</td></tr><tr><td>8.1</td><td>0.27</td><td>0.41</td><td>1.45</td><td>0.033</td><td>11.0</td><td>63.0</td><td>0.9908</td><td>2.99</td><td>0.56</td><td>12.0</td><td>5</td></tr><tr><td>8.6</td><td>0.23</td><td>0.4</td><td>4.2</td><td>0.035</td><td>17.0</td><td>109.0</td><td>0.9947</td><td>3.14</td><td>0.53</td><td>9.7</td><td>5</td></tr><tr><td>7.9</td><td>0.18</td><td>0.37</td><td>1.2</td><td>0.04</td><td>16.0</td><td>75.0</td><td>0.992</td><td>3.18</td><td>0.63</td><td>10.8</td><td>5</td></tr><tr><td>6.6</td><td>0.16</td><td>0.4</td><td>1.5</td><td>0.044</td><td>48.0</td><td>143.0</td><td>0.9912</td><td>3.54</td><td>0.52</td><td>12.4</td><td>a</td></tr><tr><td>8.3</td><td>0.42</td><td>0.62</td><td>19.25</td><td>0.04</td><td>41.0</td><td>172.0</td><td>1.0002</td><td>2.98</td><td>0.67</td><td>9.7</td><td>5</td></tr><tr><td>6.6</td><td>0.17</td><td>0.38</td><td>1.5</td><td>0.032</td><td>28.0</td><td>112.0</td><td>0.9914</td><td>3.25</td><td>0.55</td><td>11.4</td><td>a</td></tr><tr><td>6.3</td><td>0.48</td><td>0.04</td><td>1.1</td><td>0.046</td><td>30.0</td><td>99.0</td><td>0.9928</td><td>3.24</td><td>0.36</td><td>9.6</td><td>6</td></tr><tr><td>6.2</td><td>0.66</td><td>0.48</td><td>1.2</td><td>0.029</td><td>29.0</td><td>75.0</td><td>0.9892</td><td>3.33</td><td>0.39</td><td>12.8</td><td>8</td></tr><tr><td>7.4</td><td>0.34</td><td>0.42</td><td>1.1</td><td>0.033</td><td>17.0</td><td>171.0</td><td>0.9917</td><td>3.12</td><td>0.53</td><td>11.3</td><td>6</td></tr><tr><td>6.5</td><td>0.31</td><td>0.14</td><td>7.5</td><td>0.044</td><td>34.0</td><td>133.0</td><td>0.9955</td><td>3.22</td><td>0.5</td><td>9.5</td><td>5</td></tr></tbody></table></div>"
      ]
     },
     "metadata": {
      "application/vnd.databricks.v1+output": {
       "addedWidgets": {},
       "aggData": [],
       "aggError": "",
       "aggOverflow": false,
       "aggSchema": [],
       "aggSeriesLimitReached": false,
       "aggType": "",
       "arguments": {},
       "columnCustomDisplayInfos": {},
       "data": [
        [
         7.0,
         0.27,
         0.36,
         20.7,
         0.045,
         45.0,
         170.0,
         1.001,
         3.0,
         0.45,
         8.8,
         "6"
        ],
        [
         6.3,
         0.3,
         0.34,
         1.6,
         0.049,
         14.0,
         132.0,
         0.994,
         3.3,
         0.49,
         9.5,
         "6"
        ],
        [
         8.1,
         0.28,
         0.4,
         6.9,
         0.05,
         30.0,
         97.0,
         0.9951,
         3.26,
         0.44,
         10.1,
         "6"
        ],
        [
         7.2,
         0.23,
         0.32,
         8.5,
         0.058,
         47.0,
         186.0,
         0.9956,
         3.19,
         0.4,
         9.9,
         "6"
        ],
        [
         7.2,
         0.23,
         0.32,
         8.5,
         0.058,
         47.0,
         186.0,
         0.9956,
         3.19,
         0.4,
         9.9,
         "6"
        ],
        [
         8.1,
         0.28,
         0.4,
         6.9,
         0.05,
         30.0,
         97.0,
         0.9951,
         3.26,
         0.44,
         10.1,
         "6"
        ],
        [
         6.2,
         0.32,
         0.16,
         7.0,
         0.045,
         30.0,
         136.0,
         0.9949,
         3.18,
         0.47,
         9.6,
         "6"
        ],
        [
         7.0,
         0.27,
         0.36,
         20.7,
         0.045,
         45.0,
         170.0,
         1.001,
         3.0,
         0.45,
         8.8,
         "6"
        ],
        [
         6.3,
         0.3,
         0.34,
         1.6,
         0.049,
         14.0,
         132.0,
         0.994,
         3.3,
         0.49,
         9.5,
         "6"
        ],
        [
         8.1,
         0.22,
         0.43,
         1.5,
         0.044,
         28.0,
         129.0,
         0.9938,
         3.22,
         0.45,
         11.0,
         "6"
        ],
        [
         8.1,
         0.27,
         0.41,
         1.45,
         0.033,
         11.0,
         63.0,
         0.9908,
         2.99,
         0.56,
         12.0,
         "5"
        ],
        [
         8.6,
         0.23,
         0.4,
         4.2,
         0.035,
         17.0,
         109.0,
         0.9947,
         3.14,
         0.53,
         9.7,
         "5"
        ],
        [
         7.9,
         0.18,
         0.37,
         1.2,
         0.04,
         16.0,
         75.0,
         0.992,
         3.18,
         0.63,
         10.8,
         "5"
        ],
        [
         6.6,
         0.16,
         0.4,
         1.5,
         0.044,
         48.0,
         143.0,
         0.9912,
         3.54,
         0.52,
         12.4,
         "a"
        ],
        [
         8.3,
         0.42,
         0.62,
         19.25,
         0.04,
         41.0,
         172.0,
         1.0002,
         2.98,
         0.67,
         9.7,
         "5"
        ],
        [
         6.6,
         0.17,
         0.38,
         1.5,
         0.032,
         28.0,
         112.0,
         0.9914,
         3.25,
         0.55,
         11.4,
         "a"
        ],
        [
         6.3,
         0.48,
         0.04,
         1.1,
         0.046,
         30.0,
         99.0,
         0.9928,
         3.24,
         0.36,
         9.6,
         "6"
        ],
        [
         6.2,
         0.66,
         0.48,
         1.2,
         0.029,
         29.0,
         75.0,
         0.9892,
         3.33,
         0.39,
         12.8,
         "8"
        ],
        [
         7.4,
         0.34,
         0.42,
         1.1,
         0.033,
         17.0,
         171.0,
         0.9917,
         3.12,
         0.53,
         11.3,
         "6"
        ],
        [
         6.5,
         0.31,
         0.14,
         7.5,
         0.044,
         34.0,
         133.0,
         0.9955,
         3.22,
         0.5,
         9.5,
         "5"
        ]
       ],
       "datasetInfos": [],
       "dbfsResultPath": null,
       "isJsonSchema": true,
       "metadata": {},
       "overflow": false,
       "plotOptions": {
        "customPlotOptions": {},
        "displayType": "table",
        "pivotAggregation": null,
        "pivotColumns": null,
        "xColumns": null,
        "yColumns": null
       },
       "removedWidgets": [],
       "schema": [
        {
         "metadata": "{}",
         "name": "fixed acidity",
         "type": "\"double\""
        },
        {
         "metadata": "{}",
         "name": "volatile acidity",
         "type": "\"double\""
        },
        {
         "metadata": "{}",
         "name": "citric acid",
         "type": "\"double\""
        },
        {
         "metadata": "{}",
         "name": "residual sugar",
         "type": "\"double\""
        },
        {
         "metadata": "{}",
         "name": "chlorides",
         "type": "\"double\""
        },
        {
         "metadata": "{}",
         "name": "free sulfur dioxide",
         "type": "\"double\""
        },
        {
         "metadata": "{}",
         "name": "total sulfur dioxide",
         "type": "\"double\""
        },
        {
         "metadata": "{}",
         "name": "density",
         "type": "\"double\""
        },
        {
         "metadata": "{}",
         "name": "pH",
         "type": "\"double\""
        },
        {
         "metadata": "{}",
         "name": "sulphates",
         "type": "\"double\""
        },
        {
         "metadata": "{}",
         "name": "alcohol",
         "type": "\"double\""
        },
        {
         "metadata": "{}",
         "name": "quality",
         "type": "\"string\""
        }
       ],
       "type": "table"
      }
     },
     "output_type": "display_data"
    }
   ],
   "source": [
    "display(spark.read.parquet(\"/tmp/wine-broken.parquet\").limit(20))"
   ]
  },
  {
   "cell_type": "code",
   "execution_count": 0,
   "metadata": {
    "application/vnd.databricks.v1+cell": {
     "cellMetadata": {
      "byteLimit": 2048000,
      "rowLimit": 10000
     },
     "inputWidgets": {},
     "nuid": "fa3ff167-ba8f-4abc-9757-6ad770ff5737",
     "showTitle": false,
     "tableResultSettingsMap": {},
     "title": ""
    }
   },
   "outputs": [
    {
     "output_type": "display_data",
     "data": {
      "text/html": [
       "<style scoped>\n",
       "  .table-result-container {\n",
       "    max-height: 300px;\n",
       "    overflow: auto;\n",
       "  }\n",
       "  table, th, td {\n",
       "    border: 1px solid black;\n",
       "    border-collapse: collapse;\n",
       "  }\n",
       "  th, td {\n",
       "    padding: 5px;\n",
       "  }\n",
       "  th {\n",
       "    text-align: left;\n",
       "  }\n",
       "</style><div class='table-result-container'><table class='table-result'><thead style='background-color: white'><tr><th>fixed acidity</th><th>volatile acidity</th><th>citric acid</th><th>residual sugar</th><th>chlorides</th><th>free sulfur dioxide</th><th>total sulfur dioxide</th><th>density</th><th>pH</th><th>sulphates</th><th>alcohol</th><th>quality</th></tr></thead><tbody><tr><td>7.0</td><td>0.27</td><td>0.36</td><td>20.7</td><td>0.045</td><td>45.0</td><td>170.0</td><td>1.001</td><td>3.0</td><td>0.45</td><td>8.8</td><td>6</td></tr><tr><td>6.3</td><td>0.3</td><td>0.34</td><td>1.6</td><td>0.049</td><td>14.0</td><td>132.0</td><td>0.994</td><td>3.3</td><td>0.49</td><td>9.5</td><td>6</td></tr><tr><td>8.1</td><td>0.28</td><td>0.4</td><td>6.9</td><td>0.05</td><td>30.0</td><td>97.0</td><td>0.9951</td><td>3.26</td><td>0.44</td><td>10.1</td><td>6</td></tr><tr><td>7.2</td><td>0.23</td><td>0.32</td><td>8.5</td><td>0.058</td><td>47.0</td><td>186.0</td><td>0.9956</td><td>3.19</td><td>0.4</td><td>9.9</td><td>6</td></tr><tr><td>7.2</td><td>0.23</td><td>0.32</td><td>8.5</td><td>0.058</td><td>47.0</td><td>186.0</td><td>0.9956</td><td>3.19</td><td>0.4</td><td>9.9</td><td>6</td></tr><tr><td>8.1</td><td>0.28</td><td>0.4</td><td>6.9</td><td>0.05</td><td>30.0</td><td>97.0</td><td>0.9951</td><td>3.26</td><td>0.44</td><td>10.1</td><td>6</td></tr><tr><td>6.2</td><td>0.32</td><td>0.16</td><td>7.0</td><td>0.045</td><td>30.0</td><td>136.0</td><td>0.9949</td><td>3.18</td><td>0.47</td><td>9.6</td><td>6</td></tr><tr><td>7.0</td><td>0.27</td><td>0.36</td><td>20.7</td><td>0.045</td><td>45.0</td><td>170.0</td><td>1.001</td><td>3.0</td><td>0.45</td><td>8.8</td><td>6</td></tr><tr><td>6.3</td><td>0.3</td><td>0.34</td><td>1.6</td><td>0.049</td><td>14.0</td><td>132.0</td><td>0.994</td><td>3.3</td><td>0.49</td><td>9.5</td><td>6</td></tr><tr><td>8.1</td><td>0.22</td><td>0.43</td><td>1.5</td><td>0.044</td><td>28.0</td><td>129.0</td><td>0.9938</td><td>3.22</td><td>0.45</td><td>11.0</td><td>6</td></tr><tr><td>8.1</td><td>0.27</td><td>0.41</td><td>1.45</td><td>0.033</td><td>11.0</td><td>63.0</td><td>0.9908</td><td>2.99</td><td>0.56</td><td>12.0</td><td>5</td></tr><tr><td>8.6</td><td>0.23</td><td>0.4</td><td>4.2</td><td>0.035</td><td>17.0</td><td>109.0</td><td>0.9947</td><td>3.14</td><td>0.53</td><td>9.7</td><td>5</td></tr><tr><td>7.9</td><td>0.18</td><td>0.37</td><td>1.2</td><td>0.04</td><td>16.0</td><td>75.0</td><td>0.992</td><td>3.18</td><td>0.63</td><td>10.8</td><td>5</td></tr><tr><td>6.6</td><td>0.16</td><td>0.4</td><td>1.5</td><td>0.044</td><td>48.0</td><td>143.0</td><td>0.9912</td><td>3.54</td><td>0.52</td><td>12.4</td><td>a</td></tr><tr><td>8.3</td><td>0.42</td><td>0.62</td><td>19.25</td><td>0.04</td><td>41.0</td><td>172.0</td><td>1.0002</td><td>2.98</td><td>0.67</td><td>9.7</td><td>5</td></tr><tr><td>6.6</td><td>0.17</td><td>0.38</td><td>1.5</td><td>0.032</td><td>28.0</td><td>112.0</td><td>0.9914</td><td>3.25</td><td>0.55</td><td>11.4</td><td>a</td></tr><tr><td>6.3</td><td>0.48</td><td>0.04</td><td>1.1</td><td>0.046</td><td>30.0</td><td>99.0</td><td>0.9928</td><td>3.24</td><td>0.36</td><td>9.6</td><td>6</td></tr><tr><td>6.2</td><td>0.66</td><td>0.48</td><td>1.2</td><td>0.029</td><td>29.0</td><td>75.0</td><td>0.9892</td><td>3.33</td><td>0.39</td><td>12.8</td><td>8</td></tr><tr><td>7.4</td><td>0.34</td><td>0.42</td><td>1.1</td><td>0.033</td><td>17.0</td><td>171.0</td><td>0.9917</td><td>3.12</td><td>0.53</td><td>11.3</td><td>6</td></tr><tr><td>6.5</td><td>0.31</td><td>0.14</td><td>7.5</td><td>0.044</td><td>34.0</td><td>133.0</td><td>0.9955</td><td>3.22</td><td>0.5</td><td>9.5</td><td>5</td></tr></tbody></table></div>"
      ]
     },
     "metadata": {
      "application/vnd.databricks.v1+output": {
       "addedWidgets": {},
       "aggData": [],
       "aggError": "",
       "aggOverflow": false,
       "aggSchema": [],
       "aggSeriesLimitReached": false,
       "aggType": "",
       "arguments": {},
       "columnCustomDisplayInfos": {},
       "data": [
        [
         7.0,
         0.27,
         0.36,
         20.7,
         0.045,
         45.0,
         170.0,
         1.001,
         3.0,
         0.45,
         8.8,
         "6"
        ],
        [
         6.3,
         0.3,
         0.34,
         1.6,
         0.049,
         14.0,
         132.0,
         0.994,
         3.3,
         0.49,
         9.5,
         "6"
        ],
        [
         8.1,
         0.28,
         0.4,
         6.9,
         0.05,
         30.0,
         97.0,
         0.9951,
         3.26,
         0.44,
         10.1,
         "6"
        ],
        [
         7.2,
         0.23,
         0.32,
         8.5,
         0.058,
         47.0,
         186.0,
         0.9956,
         3.19,
         0.4,
         9.9,
         "6"
        ],
        [
         7.2,
         0.23,
         0.32,
         8.5,
         0.058,
         47.0,
         186.0,
         0.9956,
         3.19,
         0.4,
         9.9,
         "6"
        ],
        [
         8.1,
         0.28,
         0.4,
         6.9,
         0.05,
         30.0,
         97.0,
         0.9951,
         3.26,
         0.44,
         10.1,
         "6"
        ],
        [
         6.2,
         0.32,
         0.16,
         7.0,
         0.045,
         30.0,
         136.0,
         0.9949,
         3.18,
         0.47,
         9.6,
         "6"
        ],
        [
         7.0,
         0.27,
         0.36,
         20.7,
         0.045,
         45.0,
         170.0,
         1.001,
         3.0,
         0.45,
         8.8,
         "6"
        ],
        [
         6.3,
         0.3,
         0.34,
         1.6,
         0.049,
         14.0,
         132.0,
         0.994,
         3.3,
         0.49,
         9.5,
         "6"
        ],
        [
         8.1,
         0.22,
         0.43,
         1.5,
         0.044,
         28.0,
         129.0,
         0.9938,
         3.22,
         0.45,
         11.0,
         "6"
        ],
        [
         8.1,
         0.27,
         0.41,
         1.45,
         0.033,
         11.0,
         63.0,
         0.9908,
         2.99,
         0.56,
         12.0,
         "5"
        ],
        [
         8.6,
         0.23,
         0.4,
         4.2,
         0.035,
         17.0,
         109.0,
         0.9947,
         3.14,
         0.53,
         9.7,
         "5"
        ],
        [
         7.9,
         0.18,
         0.37,
         1.2,
         0.04,
         16.0,
         75.0,
         0.992,
         3.18,
         0.63,
         10.8,
         "5"
        ],
        [
         6.6,
         0.16,
         0.4,
         1.5,
         0.044,
         48.0,
         143.0,
         0.9912,
         3.54,
         0.52,
         12.4,
         "a"
        ],
        [
         8.3,
         0.42,
         0.62,
         19.25,
         0.04,
         41.0,
         172.0,
         1.0002,
         2.98,
         0.67,
         9.7,
         "5"
        ],
        [
         6.6,
         0.17,
         0.38,
         1.5,
         0.032,
         28.0,
         112.0,
         0.9914,
         3.25,
         0.55,
         11.4,
         "a"
        ],
        [
         6.3,
         0.48,
         0.04,
         1.1,
         0.046,
         30.0,
         99.0,
         0.9928,
         3.24,
         0.36,
         9.6,
         "6"
        ],
        [
         6.2,
         0.66,
         0.48,
         1.2,
         0.029,
         29.0,
         75.0,
         0.9892,
         3.33,
         0.39,
         12.8,
         "8"
        ],
        [
         7.4,
         0.34,
         0.42,
         1.1,
         0.033,
         17.0,
         171.0,
         0.9917,
         3.12,
         0.53,
         11.3,
         "6"
        ],
        [
         6.5,
         0.31,
         0.14,
         7.5,
         0.044,
         34.0,
         133.0,
         0.9955,
         3.22,
         0.5,
         9.5,
         "5"
        ]
       ],
       "datasetInfos": [],
       "dbfsResultPath": null,
       "isJsonSchema": true,
       "metadata": {},
       "overflow": false,
       "plotOptions": {
        "customPlotOptions": {},
        "displayType": "table",
        "pivotAggregation": null,
        "pivotColumns": null,
        "xColumns": null,
        "yColumns": null
       },
       "removedWidgets": [],
       "schema": [
        {
         "metadata": "{}",
         "name": "fixed acidity",
         "type": "\"double\""
        },
        {
         "metadata": "{}",
         "name": "volatile acidity",
         "type": "\"double\""
        },
        {
         "metadata": "{}",
         "name": "citric acid",
         "type": "\"double\""
        },
        {
         "metadata": "{}",
         "name": "residual sugar",
         "type": "\"double\""
        },
        {
         "metadata": "{}",
         "name": "chlorides",
         "type": "\"double\""
        },
        {
         "metadata": "{}",
         "name": "free sulfur dioxide",
         "type": "\"double\""
        },
        {
         "metadata": "{}",
         "name": "total sulfur dioxide",
         "type": "\"double\""
        },
        {
         "metadata": "{}",
         "name": "density",
         "type": "\"double\""
        },
        {
         "metadata": "{}",
         "name": "pH",
         "type": "\"double\""
        },
        {
         "metadata": "{}",
         "name": "sulphates",
         "type": "\"double\""
        },
        {
         "metadata": "{}",
         "name": "alcohol",
         "type": "\"double\""
        },
        {
         "metadata": "{}",
         "name": "quality",
         "type": "\"string\""
        }
       ],
       "type": "table"
      }
     },
     "output_type": "display_data"
    }
   ],
   "source": [
    "display(spark.read.parquet(\"/tmp/wine-broken.json\").limit(20))"
   ]
  }
 ],
 "metadata": {
  "application/vnd.databricks.v1+notebook": {
   "computePreferences": null,
   "dashboards": [],
   "environmentMetadata": {
    "base_environment": "",
    "client": "1"
   },
   "language": "python",
   "notebookMetadata": {
    "pythonIndentUnit": 4
   },
   "notebookName": "read-write",
   "widgets": {}
  }
 },
 "nbformat": 4,
 "nbformat_minor": 0
}
