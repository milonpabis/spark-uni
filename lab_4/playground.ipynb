{
 "cells": [
  {
   "cell_type": "code",
   "execution_count": 0,
   "metadata": {
    "application/vnd.databricks.v1+cell": {
     "cellMetadata": {
      "byteLimit": 2048000,
      "rowLimit": 10000
     },
     "inputWidgets": {},
     "nuid": "b83d4b5c-31f5-480d-8744-65f46d46749e",
     "showTitle": false,
     "tableResultSettingsMap": {},
     "title": ""
    }
   },
   "outputs": [
    {
     "output_type": "display_data",
     "data": {
      "text/html": [
       "<style scoped>\n",
       "  .table-result-container {\n",
       "    max-height: 300px;\n",
       "    overflow: auto;\n",
       "  }\n",
       "  table, th, td {\n",
       "    border: 1px solid black;\n",
       "    border-collapse: collapse;\n",
       "  }\n",
       "  th, td {\n",
       "    padding: 5px;\n",
       "  }\n",
       "  th {\n",
       "    text-align: left;\n",
       "  }\n",
       "</style><div class='table-result-container'><table class='table-result'><thead style='background-color: white'><tr><th>dest</th><th>origin</th><th>flights</th></tr></thead><tbody><tr><td>United States</td><td>Romania</td><td>1</td></tr><tr><td>United States</td><td>Ireland</td><td>264</td></tr><tr><td>United States</td><td>India</td><td>69</td></tr><tr><td>Egypt</td><td>United States</td><td>24</td></tr><tr><td>Equatorial Guinea</td><td>United States</td><td>1</td></tr><tr><td>United States</td><td>Singapore</td><td>25</td></tr><tr><td>United States</td><td>Grenada</td><td>54</td></tr><tr><td>Costa Rica</td><td>United States</td><td>477</td></tr><tr><td>Senegal</td><td>United States</td><td>29</td></tr><tr><td>United States</td><td>Marshall Islands</td><td>44</td></tr></tbody></table></div>"
      ]
     },
     "metadata": {
      "application/vnd.databricks.v1+output": {
       "addedWidgets": {},
       "aggData": [],
       "aggError": "",
       "aggOverflow": false,
       "aggSchema": [],
       "aggSeriesLimitReached": false,
       "aggType": "",
       "arguments": {},
       "columnCustomDisplayInfos": {},
       "data": [
        [
         "United States",
         "Romania",
         1
        ],
        [
         "United States",
         "Ireland",
         264
        ],
        [
         "United States",
         "India",
         69
        ],
        [
         "Egypt",
         "United States",
         24
        ],
        [
         "Equatorial Guinea",
         "United States",
         1
        ],
        [
         "United States",
         "Singapore",
         25
        ],
        [
         "United States",
         "Grenada",
         54
        ],
        [
         "Costa Rica",
         "United States",
         477
        ],
        [
         "Senegal",
         "United States",
         29
        ],
        [
         "United States",
         "Marshall Islands",
         44
        ]
       ],
       "datasetInfos": [],
       "dbfsResultPath": null,
       "isJsonSchema": true,
       "metadata": {},
       "overflow": false,
       "plotOptions": {
        "customPlotOptions": {},
        "displayType": "table",
        "pivotAggregation": null,
        "pivotColumns": null,
        "xColumns": null,
        "yColumns": null
       },
       "removedWidgets": [],
       "schema": [
        {
         "metadata": "{}",
         "name": "dest",
         "type": "\"string\""
        },
        {
         "metadata": "{}",
         "name": "origin",
         "type": "\"string\""
        },
        {
         "metadata": "{}",
         "name": "flights",
         "type": "\"integer\""
        }
       ],
       "type": "table"
      }
     },
     "output_type": "display_data"
    }
   ],
   "source": [
    "from pyspark.sql import functions as F\n",
    "from pyspark.sql import types as T\n",
    "\n",
    "schema = T.StructType([\n",
    "    T.StructField(\"dest\", T.StringType()),\n",
    "    T.StructField(\"origin\", T.StringType()),\n",
    "    T.StructField(\"flights\", T.IntegerType())\n",
    "])\n",
    "\n",
    "df = (spark.read.option(\"header\", True)\n",
    "            .schema(schema)\n",
    "            .csv(\"/FileStore/tables/flights2010/2010_summary-1.csv\"))\n",
    "\n",
    "display(df.limit(10))"
   ]
  },
  {
   "cell_type": "code",
   "execution_count": 0,
   "metadata": {
    "application/vnd.databricks.v1+cell": {
     "cellMetadata": {
      "byteLimit": 2048000,
      "rowLimit": 10000
     },
     "inputWidgets": {},
     "nuid": "66cff72b-8a80-4f27-8cbd-08849bed927c",
     "showTitle": false,
     "tableResultSettingsMap": {},
     "title": ""
    }
   },
   "outputs": [],
   "source": [
    "df = df.withColumn(\n",
    "    \"origin\",\n",
    "    F.when((F.col(\"dest\").isin([\"Egypt\", \"United States\"])) & (F.col(\"flights\") < 26) , F.lit(None)).otherwise(F.col(\"origin\"))\n",
    ")"
   ]
  },
  {
   "cell_type": "code",
   "execution_count": 0,
   "metadata": {
    "application/vnd.databricks.v1+cell": {
     "cellMetadata": {
      "byteLimit": 2048000,
      "rowLimit": 10000
     },
     "inputWidgets": {},
     "nuid": "79729f5e-5e76-417e-874b-8530ee0f00ff",
     "showTitle": false,
     "tableResultSettingsMap": {},
     "title": ""
    }
   },
   "outputs": [
    {
     "output_type": "display_data",
     "data": {
      "text/html": [
       "<style scoped>\n",
       "  .table-result-container {\n",
       "    max-height: 300px;\n",
       "    overflow: auto;\n",
       "  }\n",
       "  table, th, td {\n",
       "    border: 1px solid black;\n",
       "    border-collapse: collapse;\n",
       "  }\n",
       "  th, td {\n",
       "    padding: 5px;\n",
       "  }\n",
       "  th {\n",
       "    text-align: left;\n",
       "  }\n",
       "</style><div class='table-result-container'><table class='table-result'><thead style='background-color: white'><tr><th>dest</th><th>origin</th><th>flights</th></tr></thead><tbody><tr><td>United States</td><td>null</td><td>1</td></tr><tr><td>United States</td><td>Ireland</td><td>264</td></tr><tr><td>United States</td><td>India</td><td>69</td></tr><tr><td>Egypt</td><td>null</td><td>24</td></tr><tr><td>Equatorial Guinea</td><td>United States</td><td>1</td></tr><tr><td>United States</td><td>null</td><td>25</td></tr><tr><td>United States</td><td>Grenada</td><td>54</td></tr><tr><td>Costa Rica</td><td>United States</td><td>477</td></tr><tr><td>Senegal</td><td>United States</td><td>29</td></tr><tr><td>United States</td><td>Marshall Islands</td><td>44</td></tr></tbody></table></div>"
      ]
     },
     "metadata": {
      "application/vnd.databricks.v1+output": {
       "addedWidgets": {},
       "aggData": [],
       "aggError": "",
       "aggOverflow": false,
       "aggSchema": [],
       "aggSeriesLimitReached": false,
       "aggType": "",
       "arguments": {},
       "columnCustomDisplayInfos": {},
       "data": [
        [
         "United States",
         null,
         1
        ],
        [
         "United States",
         "Ireland",
         264
        ],
        [
         "United States",
         "India",
         69
        ],
        [
         "Egypt",
         null,
         24
        ],
        [
         "Equatorial Guinea",
         "United States",
         1
        ],
        [
         "United States",
         null,
         25
        ],
        [
         "United States",
         "Grenada",
         54
        ],
        [
         "Costa Rica",
         "United States",
         477
        ],
        [
         "Senegal",
         "United States",
         29
        ],
        [
         "United States",
         "Marshall Islands",
         44
        ]
       ],
       "datasetInfos": [],
       "dbfsResultPath": null,
       "isJsonSchema": true,
       "metadata": {},
       "overflow": false,
       "plotOptions": {
        "customPlotOptions": {},
        "displayType": "table",
        "pivotAggregation": null,
        "pivotColumns": null,
        "xColumns": null,
        "yColumns": null
       },
       "removedWidgets": [],
       "schema": [
        {
         "metadata": "{}",
         "name": "dest",
         "type": "\"string\""
        },
        {
         "metadata": "{}",
         "name": "origin",
         "type": "\"string\""
        },
        {
         "metadata": "{}",
         "name": "flights",
         "type": "\"integer\""
        }
       ],
       "type": "table"
      }
     },
     "output_type": "display_data"
    }
   ],
   "source": [
    "display(df.limit(10))"
   ]
  },
  {
   "cell_type": "markdown",
   "metadata": {
    "application/vnd.databricks.v1+cell": {
     "cellMetadata": {},
     "inputWidgets": {},
     "nuid": "e7337b6f-33a7-45d3-9835-ec9ae79da08b",
     "showTitle": false,
     "tableResultSettingsMap": {},
     "title": ""
    }
   },
   "source": [
    "### Dropping NaNs\n",
    "\n",
    "---\n",
    "\n",
    "Two methods (Actually both of these methods are each others alliases)"
   ]
  },
  {
   "cell_type": "code",
   "execution_count": 0,
   "metadata": {
    "application/vnd.databricks.v1+cell": {
     "cellMetadata": {
      "byteLimit": 2048000,
      "rowLimit": 10000
     },
     "inputWidgets": {},
     "nuid": "63e62df6-9ca1-4882-841c-da4e00313da5",
     "showTitle": false,
     "tableResultSettingsMap": {},
     "title": ""
    }
   },
   "outputs": [
    {
     "output_type": "display_data",
     "data": {
      "text/html": [
       "<style scoped>\n",
       "  .table-result-container {\n",
       "    max-height: 300px;\n",
       "    overflow: auto;\n",
       "  }\n",
       "  table, th, td {\n",
       "    border: 1px solid black;\n",
       "    border-collapse: collapse;\n",
       "  }\n",
       "  th, td {\n",
       "    padding: 5px;\n",
       "  }\n",
       "  th {\n",
       "    text-align: left;\n",
       "  }\n",
       "</style><div class='table-result-container'><table class='table-result'><thead style='background-color: white'><tr><th>dest</th><th>origin</th><th>flights</th></tr></thead><tbody><tr><td>United States</td><td>Ireland</td><td>264</td></tr><tr><td>United States</td><td>India</td><td>69</td></tr><tr><td>Equatorial Guinea</td><td>United States</td><td>1</td></tr><tr><td>United States</td><td>Grenada</td><td>54</td></tr><tr><td>Costa Rica</td><td>United States</td><td>477</td></tr><tr><td>Senegal</td><td>United States</td><td>29</td></tr><tr><td>United States</td><td>Marshall Islands</td><td>44</td></tr><tr><td>Guyana</td><td>United States</td><td>17</td></tr><tr><td>United States</td><td>Sint Maarten</td><td>53</td></tr><tr><td>Malta</td><td>United States</td><td>1</td></tr></tbody></table></div>"
      ]
     },
     "metadata": {
      "application/vnd.databricks.v1+output": {
       "addedWidgets": {},
       "aggData": [],
       "aggError": "",
       "aggOverflow": false,
       "aggSchema": [],
       "aggSeriesLimitReached": false,
       "aggType": "",
       "arguments": {},
       "columnCustomDisplayInfos": {},
       "data": [
        [
         "United States",
         "Ireland",
         264
        ],
        [
         "United States",
         "India",
         69
        ],
        [
         "Equatorial Guinea",
         "United States",
         1
        ],
        [
         "United States",
         "Grenada",
         54
        ],
        [
         "Costa Rica",
         "United States",
         477
        ],
        [
         "Senegal",
         "United States",
         29
        ],
        [
         "United States",
         "Marshall Islands",
         44
        ],
        [
         "Guyana",
         "United States",
         17
        ],
        [
         "United States",
         "Sint Maarten",
         53
        ],
        [
         "Malta",
         "United States",
         1
        ]
       ],
       "datasetInfos": [],
       "dbfsResultPath": null,
       "isJsonSchema": true,
       "metadata": {},
       "overflow": false,
       "plotOptions": {
        "customPlotOptions": {},
        "displayType": "table",
        "pivotAggregation": null,
        "pivotColumns": null,
        "xColumns": null,
        "yColumns": null
       },
       "removedWidgets": [],
       "schema": [
        {
         "metadata": "{}",
         "name": "dest",
         "type": "\"string\""
        },
        {
         "metadata": "{}",
         "name": "origin",
         "type": "\"string\""
        },
        {
         "metadata": "{}",
         "name": "flights",
         "type": "\"integer\""
        }
       ],
       "type": "table"
      }
     },
     "output_type": "display_data"
    }
   ],
   "source": [
    "display(df.na.drop().limit(10))"
   ]
  },
  {
   "cell_type": "code",
   "execution_count": 0,
   "metadata": {
    "application/vnd.databricks.v1+cell": {
     "cellMetadata": {
      "byteLimit": 2048000,
      "rowLimit": 10000
     },
     "inputWidgets": {},
     "nuid": "8f6fc663-c89b-407b-8834-5b5711f07ae2",
     "showTitle": false,
     "tableResultSettingsMap": {},
     "title": ""
    }
   },
   "outputs": [
    {
     "output_type": "display_data",
     "data": {
      "text/html": [
       "<style scoped>\n",
       "  .table-result-container {\n",
       "    max-height: 300px;\n",
       "    overflow: auto;\n",
       "  }\n",
       "  table, th, td {\n",
       "    border: 1px solid black;\n",
       "    border-collapse: collapse;\n",
       "  }\n",
       "  th, td {\n",
       "    padding: 5px;\n",
       "  }\n",
       "  th {\n",
       "    text-align: left;\n",
       "  }\n",
       "</style><div class='table-result-container'><table class='table-result'><thead style='background-color: white'><tr><th>dest</th><th>origin</th><th>flights</th></tr></thead><tbody><tr><td>United States</td><td>Ireland</td><td>264</td></tr><tr><td>United States</td><td>India</td><td>69</td></tr><tr><td>Equatorial Guinea</td><td>United States</td><td>1</td></tr><tr><td>United States</td><td>Grenada</td><td>54</td></tr><tr><td>Costa Rica</td><td>United States</td><td>477</td></tr><tr><td>Senegal</td><td>United States</td><td>29</td></tr><tr><td>United States</td><td>Marshall Islands</td><td>44</td></tr><tr><td>Guyana</td><td>United States</td><td>17</td></tr><tr><td>United States</td><td>Sint Maarten</td><td>53</td></tr><tr><td>Malta</td><td>United States</td><td>1</td></tr></tbody></table></div>"
      ]
     },
     "metadata": {
      "application/vnd.databricks.v1+output": {
       "addedWidgets": {},
       "aggData": [],
       "aggError": "",
       "aggOverflow": false,
       "aggSchema": [],
       "aggSeriesLimitReached": false,
       "aggType": "",
       "arguments": {},
       "columnCustomDisplayInfos": {},
       "data": [
        [
         "United States",
         "Ireland",
         264
        ],
        [
         "United States",
         "India",
         69
        ],
        [
         "Equatorial Guinea",
         "United States",
         1
        ],
        [
         "United States",
         "Grenada",
         54
        ],
        [
         "Costa Rica",
         "United States",
         477
        ],
        [
         "Senegal",
         "United States",
         29
        ],
        [
         "United States",
         "Marshall Islands",
         44
        ],
        [
         "Guyana",
         "United States",
         17
        ],
        [
         "United States",
         "Sint Maarten",
         53
        ],
        [
         "Malta",
         "United States",
         1
        ]
       ],
       "datasetInfos": [],
       "dbfsResultPath": null,
       "isJsonSchema": true,
       "metadata": {},
       "overflow": false,
       "plotOptions": {
        "customPlotOptions": {},
        "displayType": "table",
        "pivotAggregation": null,
        "pivotColumns": null,
        "xColumns": null,
        "yColumns": null
       },
       "removedWidgets": [],
       "schema": [
        {
         "metadata": "{}",
         "name": "dest",
         "type": "\"string\""
        },
        {
         "metadata": "{}",
         "name": "origin",
         "type": "\"string\""
        },
        {
         "metadata": "{}",
         "name": "flights",
         "type": "\"integer\""
        }
       ],
       "type": "table"
      }
     },
     "output_type": "display_data"
    }
   ],
   "source": [
    "display(df.dropna().limit(10))"
   ]
  },
  {
   "cell_type": "code",
   "execution_count": 0,
   "metadata": {
    "application/vnd.databricks.v1+cell": {
     "cellMetadata": {
      "byteLimit": 2048000,
      "rowLimit": 10000
     },
     "inputWidgets": {},
     "nuid": "bb833a62-58ec-4b05-8247-9463cd0ad3f2",
     "showTitle": false,
     "tableResultSettingsMap": {},
     "title": ""
    }
   },
   "outputs": [
    {
     "output_type": "display_data",
     "data": {
      "text/html": [
       "<style scoped>\n",
       "  .table-result-container {\n",
       "    max-height: 300px;\n",
       "    overflow: auto;\n",
       "  }\n",
       "  table, th, td {\n",
       "    border: 1px solid black;\n",
       "    border-collapse: collapse;\n",
       "  }\n",
       "  th, td {\n",
       "    padding: 5px;\n",
       "  }\n",
       "  th {\n",
       "    text-align: left;\n",
       "  }\n",
       "</style><div class='table-result-container'><table class='table-result'><thead style='background-color: white'><tr><th>dest</th><th>origin</th><th>flights</th></tr></thead><tbody><tr><td>United States</td><td>AFRICAN_CAVE</td><td>1</td></tr><tr><td>United States</td><td>Ireland</td><td>264</td></tr><tr><td>United States</td><td>India</td><td>69</td></tr><tr><td>Egypt</td><td>AFRICAN_CAVE</td><td>24</td></tr><tr><td>Equatorial Guinea</td><td>United States</td><td>1</td></tr><tr><td>United States</td><td>AFRICAN_CAVE</td><td>25</td></tr><tr><td>United States</td><td>Grenada</td><td>54</td></tr><tr><td>Costa Rica</td><td>United States</td><td>477</td></tr><tr><td>Senegal</td><td>United States</td><td>29</td></tr><tr><td>United States</td><td>Marshall Islands</td><td>44</td></tr><tr><td>Guyana</td><td>United States</td><td>17</td></tr><tr><td>United States</td><td>Sint Maarten</td><td>53</td></tr><tr><td>Malta</td><td>United States</td><td>1</td></tr><tr><td>Bolivia</td><td>United States</td><td>46</td></tr><tr><td>Anguilla</td><td>United States</td><td>21</td></tr><tr><td>Turks and Caicos Islands</td><td>United States</td><td>136</td></tr><tr><td>United States</td><td>AFRICAN_CAVE</td><td>2</td></tr><tr><td>Saint Vincent and the Grenadines</td><td>United States</td><td>1</td></tr><tr><td>Italy</td><td>United States</td><td>390</td></tr><tr><td>United States</td><td>Russia</td><td>156</td></tr></tbody></table></div>"
      ]
     },
     "metadata": {
      "application/vnd.databricks.v1+output": {
       "addedWidgets": {},
       "aggData": [],
       "aggError": "",
       "aggOverflow": false,
       "aggSchema": [],
       "aggSeriesLimitReached": false,
       "aggType": "",
       "arguments": {},
       "columnCustomDisplayInfos": {},
       "data": [
        [
         "United States",
         "AFRICAN_CAVE",
         1
        ],
        [
         "United States",
         "Ireland",
         264
        ],
        [
         "United States",
         "India",
         69
        ],
        [
         "Egypt",
         "AFRICAN_CAVE",
         24
        ],
        [
         "Equatorial Guinea",
         "United States",
         1
        ],
        [
         "United States",
         "AFRICAN_CAVE",
         25
        ],
        [
         "United States",
         "Grenada",
         54
        ],
        [
         "Costa Rica",
         "United States",
         477
        ],
        [
         "Senegal",
         "United States",
         29
        ],
        [
         "United States",
         "Marshall Islands",
         44
        ],
        [
         "Guyana",
         "United States",
         17
        ],
        [
         "United States",
         "Sint Maarten",
         53
        ],
        [
         "Malta",
         "United States",
         1
        ],
        [
         "Bolivia",
         "United States",
         46
        ],
        [
         "Anguilla",
         "United States",
         21
        ],
        [
         "Turks and Caicos Islands",
         "United States",
         136
        ],
        [
         "United States",
         "AFRICAN_CAVE",
         2
        ],
        [
         "Saint Vincent and the Grenadines",
         "United States",
         1
        ],
        [
         "Italy",
         "United States",
         390
        ],
        [
         "United States",
         "Russia",
         156
        ]
       ],
       "datasetInfos": [],
       "dbfsResultPath": null,
       "isJsonSchema": true,
       "metadata": {},
       "overflow": false,
       "plotOptions": {
        "customPlotOptions": {},
        "displayType": "table",
        "pivotAggregation": null,
        "pivotColumns": null,
        "xColumns": null,
        "yColumns": null
       },
       "removedWidgets": [],
       "schema": [
        {
         "metadata": "{}",
         "name": "dest",
         "type": "\"string\""
        },
        {
         "metadata": "{}",
         "name": "origin",
         "type": "\"string\""
        },
        {
         "metadata": "{}",
         "name": "flights",
         "type": "\"integer\""
        }
       ],
       "type": "table"
      }
     },
     "output_type": "display_data"
    }
   ],
   "source": [
    "display(df.fillna({\"origin\": \"AFRICAN_CAVE\"}).limit(20))"
   ]
  },
  {
   "cell_type": "code",
   "execution_count": 0,
   "metadata": {
    "application/vnd.databricks.v1+cell": {
     "cellMetadata": {
      "byteLimit": 2048000,
      "rowLimit": 10000
     },
     "inputWidgets": {},
     "nuid": "476ce940-b865-477c-a190-c231b7ecedb9",
     "showTitle": false,
     "tableResultSettingsMap": {},
     "title": ""
    }
   },
   "outputs": [
    {
     "output_type": "display_data",
     "data": {
      "text/html": [
       "<style scoped>\n",
       "  .table-result-container {\n",
       "    max-height: 300px;\n",
       "    overflow: auto;\n",
       "  }\n",
       "  table, th, td {\n",
       "    border: 1px solid black;\n",
       "    border-collapse: collapse;\n",
       "  }\n",
       "  th, td {\n",
       "    padding: 5px;\n",
       "  }\n",
       "  th {\n",
       "    text-align: left;\n",
       "  }\n",
       "</style><div class='table-result-container'><table class='table-result'><thead style='background-color: white'><tr><th>dest</th><th>origin</th><th>flights</th></tr></thead><tbody><tr><td>United States</td><td>null</td><td>1</td></tr><tr><td>United States</td><td>null</td><td>264</td></tr><tr><td>United States</td><td>India</td><td>69</td></tr><tr><td>Egypt</td><td>null</td><td>24</td></tr><tr><td>Equatorial Guinea</td><td>United States</td><td>1</td></tr><tr><td>United States</td><td>null</td><td>25</td></tr><tr><td>United States</td><td>Grenada</td><td>54</td></tr><tr><td>Costa Rica</td><td>United States</td><td>477</td></tr><tr><td>Senegal</td><td>United States</td><td>29</td></tr><tr><td>United States</td><td>Marshall Islands</td><td>44</td></tr></tbody></table></div>"
      ]
     },
     "metadata": {
      "application/vnd.databricks.v1+output": {
       "addedWidgets": {},
       "aggData": [],
       "aggError": "",
       "aggOverflow": false,
       "aggSchema": [],
       "aggSeriesLimitReached": false,
       "aggType": "",
       "arguments": {},
       "columnCustomDisplayInfos": {},
       "data": [
        [
         "United States",
         null,
         1
        ],
        [
         "United States",
         null,
         264
        ],
        [
         "United States",
         "India",
         69
        ],
        [
         "Egypt",
         null,
         24
        ],
        [
         "Equatorial Guinea",
         "United States",
         1
        ],
        [
         "United States",
         null,
         25
        ],
        [
         "United States",
         "Grenada",
         54
        ],
        [
         "Costa Rica",
         "United States",
         477
        ],
        [
         "Senegal",
         "United States",
         29
        ],
        [
         "United States",
         "Marshall Islands",
         44
        ]
       ],
       "datasetInfos": [],
       "dbfsResultPath": null,
       "isJsonSchema": true,
       "metadata": {},
       "overflow": false,
       "plotOptions": {
        "customPlotOptions": {},
        "displayType": "table",
        "pivotAggregation": null,
        "pivotColumns": null,
        "xColumns": null,
        "yColumns": null
       },
       "removedWidgets": [],
       "schema": [
        {
         "metadata": "{}",
         "name": "dest",
         "type": "\"string\""
        },
        {
         "metadata": "{}",
         "name": "origin",
         "type": "\"string\""
        },
        {
         "metadata": "{}",
         "name": "flights",
         "type": "\"integer\""
        }
       ],
       "type": "table"
      }
     },
     "output_type": "display_data"
    }
   ],
   "source": [
    "display(df.na.replace([\"Ireland\"], None).limit(10))"
   ]
  },
  {
   "cell_type": "code",
   "execution_count": 0,
   "metadata": {
    "application/vnd.databricks.v1+cell": {
     "cellMetadata": {
      "byteLimit": 2048000,
      "rowLimit": 10000
     },
     "inputWidgets": {},
     "nuid": "30b6004f-2bb7-4e97-975b-7489f41e70ec",
     "showTitle": false,
     "tableResultSettingsMap": {},
     "title": ""
    }
   },
   "outputs": [
    {
     "output_type": "display_data",
     "data": {
      "text/html": [
       "<style scoped>\n",
       "  .table-result-container {\n",
       "    max-height: 300px;\n",
       "    overflow: auto;\n",
       "  }\n",
       "  table, th, td {\n",
       "    border: 1px solid black;\n",
       "    border-collapse: collapse;\n",
       "  }\n",
       "  th, td {\n",
       "    padding: 5px;\n",
       "  }\n",
       "  th {\n",
       "    text-align: left;\n",
       "  }\n",
       "</style><div class='table-result-container'><table class='table-result'><thead style='background-color: white'><tr><th>dest</th><th>origin</th><th>flights</th></tr></thead><tbody><tr><td>United States</td><td>null</td><td>1</td></tr><tr><td>United States</td><td>CAVE!</td><td>264</td></tr><tr><td>United States</td><td>India</td><td>69</td></tr><tr><td>Egypt</td><td>null</td><td>24</td></tr><tr><td>Equatorial Guinea</td><td>United States</td><td>1</td></tr><tr><td>United States</td><td>null</td><td>25</td></tr><tr><td>United States</td><td>CAVE!</td><td>54</td></tr><tr><td>Costa Rica</td><td>United States</td><td>477</td></tr><tr><td>Senegal</td><td>United States</td><td>29</td></tr><tr><td>United States</td><td>Marshall Islands</td><td>44</td></tr></tbody></table></div>"
      ]
     },
     "metadata": {
      "application/vnd.databricks.v1+output": {
       "addedWidgets": {},
       "aggData": [],
       "aggError": "",
       "aggOverflow": false,
       "aggSchema": [],
       "aggSeriesLimitReached": false,
       "aggType": "",
       "arguments": {},
       "columnCustomDisplayInfos": {},
       "data": [
        [
         "United States",
         null,
         1
        ],
        [
         "United States",
         "CAVE!",
         264
        ],
        [
         "United States",
         "India",
         69
        ],
        [
         "Egypt",
         null,
         24
        ],
        [
         "Equatorial Guinea",
         "United States",
         1
        ],
        [
         "United States",
         null,
         25
        ],
        [
         "United States",
         "CAVE!",
         54
        ],
        [
         "Costa Rica",
         "United States",
         477
        ],
        [
         "Senegal",
         "United States",
         29
        ],
        [
         "United States",
         "Marshall Islands",
         44
        ]
       ],
       "datasetInfos": [],
       "dbfsResultPath": null,
       "isJsonSchema": true,
       "metadata": {},
       "overflow": false,
       "plotOptions": {
        "customPlotOptions": {},
        "displayType": "table",
        "pivotAggregation": null,
        "pivotColumns": null,
        "xColumns": null,
        "yColumns": null
       },
       "removedWidgets": [],
       "schema": [
        {
         "metadata": "{}",
         "name": "dest",
         "type": "\"string\""
        },
        {
         "metadata": "{}",
         "name": "origin",
         "type": "\"string\""
        },
        {
         "metadata": "{}",
         "name": "flights",
         "type": "\"integer\""
        }
       ],
       "type": "table"
      }
     },
     "output_type": "display_data"
    }
   ],
   "source": [
    "display(df.replace([\"Ireland\", \"Grenada\"], \"CAVE!\").limit(10))"
   ]
  },
  {
   "cell_type": "code",
   "execution_count": 0,
   "metadata": {
    "application/vnd.databricks.v1+cell": {
     "cellMetadata": {
      "byteLimit": 2048000,
      "rowLimit": 10000
     },
     "inputWidgets": {},
     "nuid": "4f8f3f0b-97e2-4e74-8654-31991c7ab621",
     "showTitle": false,
     "tableResultSettingsMap": {},
     "title": ""
    }
   },
   "outputs": [
    {
     "output_type": "display_data",
     "data": {
      "text/html": [
       "<style scoped>\n",
       "  .table-result-container {\n",
       "    max-height: 300px;\n",
       "    overflow: auto;\n",
       "  }\n",
       "  table, th, td {\n",
       "    border: 1px solid black;\n",
       "    border-collapse: collapse;\n",
       "  }\n",
       "  th, td {\n",
       "    padding: 5px;\n",
       "  }\n",
       "  th {\n",
       "    text-align: left;\n",
       "  }\n",
       "</style><div class='table-result-container'><table class='table-result'><thead style='background-color: white'><tr><th>dest</th><th>origin</th><th>flights</th><th>random_id</th></tr></thead><tbody><tr><td>United States</td><td>null</td><td>1</td><td>List(0.6060300133382945, 0.28989790740641797)</td></tr><tr><td>United States</td><td>Ireland</td><td>264</td><td>List(0.9092719009982054, 0.4661610086110489)</td></tr><tr><td>United States</td><td>India</td><td>69</td><td>List(0.7780189682258168, 0.598101903424138)</td></tr><tr><td>Egypt</td><td>null</td><td>24</td><td>List(0.5450045240189886, 0.11557603423842067)</td></tr><tr><td>Equatorial Guinea</td><td>United States</td><td>1</td><td>List(0.8875993990463372, 0.8277320308183174)</td></tr><tr><td>United States</td><td>null</td><td>25</td><td>List(0.1627235275647222, 0.40416230794840446)</td></tr><tr><td>United States</td><td>Grenada</td><td>54</td><td>List(0.14363213704967703, 0.7271467337115114)</td></tr><tr><td>Costa Rica</td><td>United States</td><td>477</td><td>List(0.08515340990090958, 0.5028811135495342)</td></tr><tr><td>Senegal</td><td>United States</td><td>29</td><td>List(0.13781881655053707, 0.658067304302552)</td></tr><tr><td>United States</td><td>Marshall Islands</td><td>44</td><td>List(0.9505931820043269, 0.004191571160683583)</td></tr></tbody></table></div>"
      ]
     },
     "metadata": {
      "application/vnd.databricks.v1+output": {
       "addedWidgets": {},
       "aggData": [],
       "aggError": "",
       "aggOverflow": false,
       "aggSchema": [],
       "aggSeriesLimitReached": false,
       "aggType": "",
       "arguments": {},
       "columnCustomDisplayInfos": {},
       "data": [
        [
         "United States",
         null,
         1,
         [
          0.6060300133382945,
          0.28989790740641797
         ]
        ],
        [
         "United States",
         "Ireland",
         264,
         [
          0.9092719009982054,
          0.4661610086110489
         ]
        ],
        [
         "United States",
         "India",
         69,
         [
          0.7780189682258168,
          0.598101903424138
         ]
        ],
        [
         "Egypt",
         null,
         24,
         [
          0.5450045240189886,
          0.11557603423842067
         ]
        ],
        [
         "Equatorial Guinea",
         "United States",
         1,
         [
          0.8875993990463372,
          0.8277320308183174
         ]
        ],
        [
         "United States",
         null,
         25,
         [
          0.1627235275647222,
          0.40416230794840446
         ]
        ],
        [
         "United States",
         "Grenada",
         54,
         [
          0.14363213704967703,
          0.7271467337115114
         ]
        ],
        [
         "Costa Rica",
         "United States",
         477,
         [
          0.08515340990090958,
          0.5028811135495342
         ]
        ],
        [
         "Senegal",
         "United States",
         29,
         [
          0.13781881655053707,
          0.658067304302552
         ]
        ],
        [
         "United States",
         "Marshall Islands",
         44,
         [
          0.9505931820043269,
          0.004191571160683583
         ]
        ]
       ],
       "datasetInfos": [],
       "dbfsResultPath": null,
       "isJsonSchema": true,
       "metadata": {},
       "overflow": false,
       "plotOptions": {
        "customPlotOptions": {},
        "displayType": "table",
        "pivotAggregation": null,
        "pivotColumns": null,
        "xColumns": null,
        "yColumns": null
       },
       "removedWidgets": [],
       "schema": [
        {
         "metadata": "{}",
         "name": "dest",
         "type": "\"string\""
        },
        {
         "metadata": "{}",
         "name": "origin",
         "type": "\"string\""
        },
        {
         "metadata": "{}",
         "name": "flights",
         "type": "\"integer\""
        },
        {
         "metadata": "{}",
         "name": "random_id",
         "type": "{\"type\":\"array\",\"elementType\":\"double\",\"containsNull\":false}"
        }
       ],
       "type": "table"
      }
     },
     "output_type": "display_data"
    }
   ],
   "source": [
    "df_t = df.withColumn(\n",
    "    \"random_id\",\n",
    "    F.array(F.rand(), F.rand())\n",
    ")\n",
    "\n",
    "display(df_t.limit(10))"
   ]
  },
  {
   "cell_type": "code",
   "execution_count": 0,
   "metadata": {
    "application/vnd.databricks.v1+cell": {
     "cellMetadata": {
      "byteLimit": 2048000,
      "rowLimit": 10000
     },
     "inputWidgets": {},
     "nuid": "d0a2d1da-ace7-46e7-b086-66c30fdb6d11",
     "showTitle": false,
     "tableResultSettingsMap": {},
     "title": ""
    }
   },
   "outputs": [
    {
     "output_type": "display_data",
     "data": {
      "text/html": [
       "<style scoped>\n",
       "  .table-result-container {\n",
       "    max-height: 300px;\n",
       "    overflow: auto;\n",
       "  }\n",
       "  table, th, td {\n",
       "    border: 1px solid black;\n",
       "    border-collapse: collapse;\n",
       "  }\n",
       "  th, td {\n",
       "    padding: 5px;\n",
       "  }\n",
       "  th {\n",
       "    text-align: left;\n",
       "  }\n",
       "</style><div class='table-result-container'><table class='table-result'><thead style='background-color: white'><tr><th>dest</th><th>origin</th><th>flights</th><th>col</th></tr></thead><tbody><tr><td>United States</td><td>null</td><td>1</td><td>0.6060300133382945</td></tr><tr><td>United States</td><td>null</td><td>1</td><td>0.28989790740641797</td></tr><tr><td>United States</td><td>Ireland</td><td>264</td><td>0.9092719009982054</td></tr><tr><td>United States</td><td>Ireland</td><td>264</td><td>0.4661610086110489</td></tr><tr><td>United States</td><td>India</td><td>69</td><td>0.7780189682258168</td></tr><tr><td>United States</td><td>India</td><td>69</td><td>0.598101903424138</td></tr><tr><td>Egypt</td><td>null</td><td>24</td><td>0.5450045240189886</td></tr><tr><td>Egypt</td><td>null</td><td>24</td><td>0.11557603423842067</td></tr><tr><td>Equatorial Guinea</td><td>United States</td><td>1</td><td>0.8875993990463372</td></tr><tr><td>Equatorial Guinea</td><td>United States</td><td>1</td><td>0.8277320308183174</td></tr></tbody></table></div>"
      ]
     },
     "metadata": {
      "application/vnd.databricks.v1+output": {
       "addedWidgets": {},
       "aggData": [],
       "aggError": "",
       "aggOverflow": false,
       "aggSchema": [],
       "aggSeriesLimitReached": false,
       "aggType": "",
       "arguments": {},
       "columnCustomDisplayInfos": {},
       "data": [
        [
         "United States",
         null,
         1,
         0.6060300133382945
        ],
        [
         "United States",
         null,
         1,
         0.28989790740641797
        ],
        [
         "United States",
         "Ireland",
         264,
         0.9092719009982054
        ],
        [
         "United States",
         "Ireland",
         264,
         0.4661610086110489
        ],
        [
         "United States",
         "India",
         69,
         0.7780189682258168
        ],
        [
         "United States",
         "India",
         69,
         0.598101903424138
        ],
        [
         "Egypt",
         null,
         24,
         0.5450045240189886
        ],
        [
         "Egypt",
         null,
         24,
         0.11557603423842067
        ],
        [
         "Equatorial Guinea",
         "United States",
         1,
         0.8875993990463372
        ],
        [
         "Equatorial Guinea",
         "United States",
         1,
         0.8277320308183174
        ]
       ],
       "datasetInfos": [],
       "dbfsResultPath": null,
       "isJsonSchema": true,
       "metadata": {},
       "overflow": false,
       "plotOptions": {
        "customPlotOptions": {},
        "displayType": "table",
        "pivotAggregation": null,
        "pivotColumns": null,
        "xColumns": null,
        "yColumns": null
       },
       "removedWidgets": [],
       "schema": [
        {
         "metadata": "{}",
         "name": "dest",
         "type": "\"string\""
        },
        {
         "metadata": "{}",
         "name": "origin",
         "type": "\"string\""
        },
        {
         "metadata": "{}",
         "name": "flights",
         "type": "\"integer\""
        },
        {
         "metadata": "{}",
         "name": "col",
         "type": "\"double\""
        }
       ],
       "type": "table"
      }
     },
     "output_type": "display_data"
    }
   ],
   "source": [
    "display(df_t.select(\"*\", F.explode(F.col(\"random_id\").alias(\"rid\"))).drop(\"random_id\").limit(10))"
   ]
  },
  {
   "cell_type": "code",
   "execution_count": 0,
   "metadata": {
    "application/vnd.databricks.v1+cell": {
     "cellMetadata": {
      "byteLimit": 2048000,
      "rowLimit": 10000
     },
     "inputWidgets": {},
     "nuid": "25038022-208f-4abb-b4cb-e029a6b09043",
     "showTitle": false,
     "tableResultSettingsMap": {},
     "title": ""
    }
   },
   "outputs": [
    {
     "output_type": "display_data",
     "data": {
      "text/html": [
       "<style scoped>\n",
       "  .table-result-container {\n",
       "    max-height: 300px;\n",
       "    overflow: auto;\n",
       "  }\n",
       "  table, th, td {\n",
       "    border: 1px solid black;\n",
       "    border-collapse: collapse;\n",
       "  }\n",
       "  th, td {\n",
       "    padding: 5px;\n",
       "  }\n",
       "  th {\n",
       "    text-align: left;\n",
       "  }\n",
       "</style><div class='table-result-container'><table class='table-result'><thead style='background-color: white'><tr><th>dest</th><th>origin</th><th>flights</th><th>dest_no_vowel</th></tr></thead><tbody><tr><td>United States</td><td>null</td><td>1</td><td>Untd Stts</td></tr><tr><td>United States</td><td>Ireland</td><td>264</td><td>Untd Stts</td></tr><tr><td>United States</td><td>India</td><td>69</td><td>Untd Stts</td></tr><tr><td>Egypt</td><td>null</td><td>24</td><td>Egpt</td></tr><tr><td>Equatorial Guinea</td><td>United States</td><td>1</td><td>Eqtrl Gn</td></tr><tr><td>United States</td><td>null</td><td>25</td><td>Untd Stts</td></tr><tr><td>United States</td><td>Grenada</td><td>54</td><td>Untd Stts</td></tr><tr><td>Costa Rica</td><td>United States</td><td>477</td><td>Cst Rc</td></tr><tr><td>Senegal</td><td>United States</td><td>29</td><td>Sngl</td></tr><tr><td>United States</td><td>Marshall Islands</td><td>44</td><td>Untd Stts</td></tr></tbody></table></div>"
      ]
     },
     "metadata": {
      "application/vnd.databricks.v1+output": {
       "addedWidgets": {},
       "aggData": [],
       "aggError": "",
       "aggOverflow": false,
       "aggSchema": [],
       "aggSeriesLimitReached": false,
       "aggType": "",
       "arguments": {},
       "columnCustomDisplayInfos": {},
       "data": [
        [
         "United States",
         null,
         1,
         "Untd Stts"
        ],
        [
         "United States",
         "Ireland",
         264,
         "Untd Stts"
        ],
        [
         "United States",
         "India",
         69,
         "Untd Stts"
        ],
        [
         "Egypt",
         null,
         24,
         "Egpt"
        ],
        [
         "Equatorial Guinea",
         "United States",
         1,
         "Eqtrl Gn"
        ],
        [
         "United States",
         null,
         25,
         "Untd Stts"
        ],
        [
         "United States",
         "Grenada",
         54,
         "Untd Stts"
        ],
        [
         "Costa Rica",
         "United States",
         477,
         "Cst Rc"
        ],
        [
         "Senegal",
         "United States",
         29,
         "Sngl"
        ],
        [
         "United States",
         "Marshall Islands",
         44,
         "Untd Stts"
        ]
       ],
       "datasetInfos": [],
       "dbfsResultPath": null,
       "isJsonSchema": true,
       "metadata": {},
       "overflow": false,
       "plotOptions": {
        "customPlotOptions": {},
        "displayType": "table",
        "pivotAggregation": null,
        "pivotColumns": null,
        "xColumns": null,
        "yColumns": null
       },
       "removedWidgets": [],
       "schema": [
        {
         "metadata": "{}",
         "name": "dest",
         "type": "\"string\""
        },
        {
         "metadata": "{}",
         "name": "origin",
         "type": "\"string\""
        },
        {
         "metadata": "{}",
         "name": "flights",
         "type": "\"integer\""
        },
        {
         "metadata": "{}",
         "name": "dest_no_vowel",
         "type": "\"string\""
        }
       ],
       "type": "table"
      }
     },
     "output_type": "display_data"
    }
   ],
   "source": [
    "df = df.withColumn(\n",
    "    \"dest_no_vowel\",\n",
    "    F.regexp_replace(\"dest\", r\"[aouiey]\", \"\")\n",
    ")\n",
    "\n",
    "display(df.limit(10))"
   ]
  },
  {
   "cell_type": "code",
   "execution_count": 0,
   "metadata": {
    "application/vnd.databricks.v1+cell": {
     "cellMetadata": {
      "byteLimit": 2048000,
      "rowLimit": 10000
     },
     "inputWidgets": {},
     "nuid": "2431dc48-4c1e-4557-9d82-d7743ac292c3",
     "showTitle": false,
     "tableResultSettingsMap": {},
     "title": ""
    }
   },
   "outputs": [
    {
     "output_type": "display_data",
     "data": {
      "text/html": [
       "<style scoped>\n",
       "  .table-result-container {\n",
       "    max-height: 300px;\n",
       "    overflow: auto;\n",
       "  }\n",
       "  table, th, td {\n",
       "    border: 1px solid black;\n",
       "    border-collapse: collapse;\n",
       "  }\n",
       "  th, td {\n",
       "    padding: 5px;\n",
       "  }\n",
       "  th {\n",
       "    text-align: left;\n",
       "  }\n",
       "</style><div class='table-result-container'><table class='table-result'><thead style='background-color: white'><tr><th>dest</th><th>origin</th><th>flights</th><th>dest_no_vowel</th><th>dest_last2_first2</th></tr></thead><tbody><tr><td>United States</td><td>null</td><td>1</td><td>Untd Stts</td><td>ed St</td></tr><tr><td>United States</td><td>Ireland</td><td>264</td><td>Untd Stts</td><td>ed St</td></tr><tr><td>United States</td><td>India</td><td>69</td><td>Untd Stts</td><td>ed St</td></tr><tr><td>Egypt</td><td>null</td><td>24</td><td>Egpt</td><td></td></tr><tr><td>Equatorial Guinea</td><td>United States</td><td>1</td><td>Eqtrl Gn</td><td>al Gu</td></tr><tr><td>United States</td><td>null</td><td>25</td><td>Untd Stts</td><td>ed St</td></tr><tr><td>United States</td><td>Grenada</td><td>54</td><td>Untd Stts</td><td>ed St</td></tr><tr><td>Costa Rica</td><td>United States</td><td>477</td><td>Cst Rc</td><td>ta Ri</td></tr><tr><td>Senegal</td><td>United States</td><td>29</td><td>Sngl</td><td></td></tr><tr><td>United States</td><td>Marshall Islands</td><td>44</td><td>Untd Stts</td><td>ed St</td></tr></tbody></table></div>"
      ]
     },
     "metadata": {
      "application/vnd.databricks.v1+output": {
       "addedWidgets": {},
       "aggData": [],
       "aggError": "",
       "aggOverflow": false,
       "aggSchema": [],
       "aggSeriesLimitReached": false,
       "aggType": "",
       "arguments": {},
       "columnCustomDisplayInfos": {},
       "data": [
        [
         "United States",
         null,
         1,
         "Untd Stts",
         "ed St"
        ],
        [
         "United States",
         "Ireland",
         264,
         "Untd Stts",
         "ed St"
        ],
        [
         "United States",
         "India",
         69,
         "Untd Stts",
         "ed St"
        ],
        [
         "Egypt",
         null,
         24,
         "Egpt",
         ""
        ],
        [
         "Equatorial Guinea",
         "United States",
         1,
         "Eqtrl Gn",
         "al Gu"
        ],
        [
         "United States",
         null,
         25,
         "Untd Stts",
         "ed St"
        ],
        [
         "United States",
         "Grenada",
         54,
         "Untd Stts",
         "ed St"
        ],
        [
         "Costa Rica",
         "United States",
         477,
         "Cst Rc",
         "ta Ri"
        ],
        [
         "Senegal",
         "United States",
         29,
         "Sngl",
         ""
        ],
        [
         "United States",
         "Marshall Islands",
         44,
         "Untd Stts",
         "ed St"
        ]
       ],
       "datasetInfos": [],
       "dbfsResultPath": null,
       "isJsonSchema": true,
       "metadata": {},
       "overflow": false,
       "plotOptions": {
        "customPlotOptions": {},
        "displayType": "table",
        "pivotAggregation": null,
        "pivotColumns": null,
        "xColumns": null,
        "yColumns": null
       },
       "removedWidgets": [],
       "schema": [
        {
         "metadata": "{}",
         "name": "dest",
         "type": "\"string\""
        },
        {
         "metadata": "{}",
         "name": "origin",
         "type": "\"string\""
        },
        {
         "metadata": "{}",
         "name": "flights",
         "type": "\"integer\""
        },
        {
         "metadata": "{}",
         "name": "dest_no_vowel",
         "type": "\"string\""
        },
        {
         "metadata": "{}",
         "name": "dest_last2_first2",
         "type": "\"string\""
        }
       ],
       "type": "table"
      }
     },
     "output_type": "display_data"
    }
   ],
   "source": [
    "df = df.withColumn(\n",
    "    \"dest_last2_first2\",\n",
    "    F.regexp_extract(\"dest\", r\".{2}\\ .{2}\", 0)\n",
    ")\n",
    "\n",
    "display(df.limit(10))"
   ]
  },
  {
   "cell_type": "code",
   "execution_count": 0,
   "metadata": {
    "application/vnd.databricks.v1+cell": {
     "cellMetadata": {
      "byteLimit": 2048000,
      "rowLimit": 10000
     },
     "inputWidgets": {},
     "nuid": "67da68e2-0c8e-45db-8339-bf0b3e53a803",
     "showTitle": false,
     "tableResultSettingsMap": {},
     "title": ""
    }
   },
   "outputs": [
    {
     "output_type": "display_data",
     "data": {
      "text/html": [
       "<style scoped>\n",
       "  .table-result-container {\n",
       "    max-height: 300px;\n",
       "    overflow: auto;\n",
       "  }\n",
       "  table, th, td {\n",
       "    border: 1px solid black;\n",
       "    border-collapse: collapse;\n",
       "  }\n",
       "  th, td {\n",
       "    padding: 5px;\n",
       "  }\n",
       "  th {\n",
       "    text-align: left;\n",
       "  }\n",
       "</style><div class='table-result-container'><table class='table-result'><thead style='background-color: white'><tr><th>dest</th><th>origin</th><th>flights</th><th>dest_no_vowel</th><th>dest_last2_first2</th><th>temp_origin</th></tr></thead><tbody><tr><td>United States</td><td>null</td><td>1</td><td>Untd Stts</td><td>ed St</td><td>AFRICAN_CAVE</td></tr><tr><td>United States</td><td>Ireland</td><td>264</td><td>Untd Stts</td><td>ed St</td><td>Ireland</td></tr><tr><td>United States</td><td>India</td><td>69</td><td>Untd Stts</td><td>ed St</td><td>India</td></tr><tr><td>Egypt</td><td>null</td><td>24</td><td>Egpt</td><td></td><td>AFRICAN_CAVE</td></tr><tr><td>Equatorial Guinea</td><td>United States</td><td>1</td><td>Eqtrl Gn</td><td>al Gu</td><td>United States</td></tr><tr><td>United States</td><td>null</td><td>25</td><td>Untd Stts</td><td>ed St</td><td>AFRICAN_CAVE</td></tr><tr><td>United States</td><td>Grenada</td><td>54</td><td>Untd Stts</td><td>ed St</td><td>Grenada</td></tr><tr><td>Costa Rica</td><td>United States</td><td>477</td><td>Cst Rc</td><td>ta Ri</td><td>United States</td></tr><tr><td>Senegal</td><td>United States</td><td>29</td><td>Sngl</td><td></td><td>United States</td></tr><tr><td>United States</td><td>Marshall Islands</td><td>44</td><td>Untd Stts</td><td>ed St</td><td>Marshall Islands</td></tr></tbody></table></div>"
      ]
     },
     "metadata": {
      "application/vnd.databricks.v1+output": {
       "addedWidgets": {},
       "aggData": [],
       "aggError": "",
       "aggOverflow": false,
       "aggSchema": [],
       "aggSeriesLimitReached": false,
       "aggType": "",
       "arguments": {},
       "columnCustomDisplayInfos": {},
       "data": [
        [
         "United States",
         null,
         1,
         "Untd Stts",
         "ed St",
         "AFRICAN_CAVE"
        ],
        [
         "United States",
         "Ireland",
         264,
         "Untd Stts",
         "ed St",
         "Ireland"
        ],
        [
         "United States",
         "India",
         69,
         "Untd Stts",
         "ed St",
         "India"
        ],
        [
         "Egypt",
         null,
         24,
         "Egpt",
         "",
         "AFRICAN_CAVE"
        ],
        [
         "Equatorial Guinea",
         "United States",
         1,
         "Eqtrl Gn",
         "al Gu",
         "United States"
        ],
        [
         "United States",
         null,
         25,
         "Untd Stts",
         "ed St",
         "AFRICAN_CAVE"
        ],
        [
         "United States",
         "Grenada",
         54,
         "Untd Stts",
         "ed St",
         "Grenada"
        ],
        [
         "Costa Rica",
         "United States",
         477,
         "Cst Rc",
         "ta Ri",
         "United States"
        ],
        [
         "Senegal",
         "United States",
         29,
         "Sngl",
         "",
         "United States"
        ],
        [
         "United States",
         "Marshall Islands",
         44,
         "Untd Stts",
         "ed St",
         "Marshall Islands"
        ]
       ],
       "datasetInfos": [],
       "dbfsResultPath": null,
       "isJsonSchema": true,
       "metadata": {},
       "overflow": false,
       "plotOptions": {
        "customPlotOptions": {},
        "displayType": "table",
        "pivotAggregation": null,
        "pivotColumns": null,
        "xColumns": null,
        "yColumns": null
       },
       "removedWidgets": [],
       "schema": [
        {
         "metadata": "{}",
         "name": "dest",
         "type": "\"string\""
        },
        {
         "metadata": "{}",
         "name": "origin",
         "type": "\"string\""
        },
        {
         "metadata": "{}",
         "name": "flights",
         "type": "\"integer\""
        },
        {
         "metadata": "{}",
         "name": "dest_no_vowel",
         "type": "\"string\""
        },
        {
         "metadata": "{}",
         "name": "dest_last2_first2",
         "type": "\"string\""
        },
        {
         "metadata": "{}",
         "name": "temp_origin",
         "type": "\"string\""
        }
       ],
       "type": "table"
      }
     },
     "output_type": "display_data"
    }
   ],
   "source": [
    "df = df.withColumn(\n",
    "    \"temp_origin\",\n",
    "    F.ifnull(F.col(\"origin\"), F.lit(\"AFRICAN_CAVE\"))\n",
    ")\n",
    "\n",
    "display(df.limit(10))"
   ]
  },
  {
   "cell_type": "code",
   "execution_count": 0,
   "metadata": {
    "application/vnd.databricks.v1+cell": {
     "cellMetadata": {
      "byteLimit": 2048000,
      "rowLimit": 10000
     },
     "inputWidgets": {},
     "nuid": "197fc84c-efe8-4515-bb9f-bedafe24c165",
     "showTitle": false,
     "tableResultSettingsMap": {},
     "title": ""
    }
   },
   "outputs": [
    {
     "output_type": "display_data",
     "data": {
      "text/html": [
       "<style scoped>\n",
       "  .table-result-container {\n",
       "    max-height: 300px;\n",
       "    overflow: auto;\n",
       "  }\n",
       "  table, th, td {\n",
       "    border: 1px solid black;\n",
       "    border-collapse: collapse;\n",
       "  }\n",
       "  th, td {\n",
       "    padding: 5px;\n",
       "  }\n",
       "  th {\n",
       "    text-align: left;\n",
       "  }\n",
       "</style><div class='table-result-container'><table class='table-result'><thead style='background-color: white'><tr><th>dest</th><th>origin</th><th>flights</th><th>dest_no_vowel</th><th>dest_last2_first2</th><th>temp_origin</th></tr></thead><tbody><tr><td>Unity States</td><td>null</td><td>1</td><td>Untd Stts</td><td>ed St</td><td>AFRICAN_CAVE</td></tr><tr><td>Unity States</td><td>Ireland</td><td>264</td><td>Untd Stts</td><td>ed St</td><td>Ireland</td></tr><tr><td>Unity States</td><td>India</td><td>69</td><td>Untd Stts</td><td>ed St</td><td>India</td></tr><tr><td>Egypt</td><td>null</td><td>24</td><td>Egpt</td><td></td><td>AFRICAN_CAVE</td></tr><tr><td>Equatorial Guinea</td><td>United States</td><td>1</td><td>Eqtrl Gn</td><td>al Gu</td><td>United States</td></tr><tr><td>Unity States</td><td>null</td><td>25</td><td>Untd Stts</td><td>ed St</td><td>AFRICAN_CAVE</td></tr><tr><td>Unity States</td><td>Grenada</td><td>54</td><td>Untd Stts</td><td>ed St</td><td>Grenada</td></tr><tr><td>Costa Rica</td><td>United States</td><td>477</td><td>Cst Rc</td><td>ta Ri</td><td>United States</td></tr><tr><td>Senegal</td><td>United States</td><td>29</td><td>Sngl</td><td></td><td>United States</td></tr><tr><td>Unity States</td><td>Marshall Islands</td><td>44</td><td>Untd Stts</td><td>ed St</td><td>Marshall Islands</td></tr></tbody></table></div>"
      ]
     },
     "metadata": {
      "application/vnd.databricks.v1+output": {
       "addedWidgets": {},
       "aggData": [],
       "aggError": "",
       "aggOverflow": false,
       "aggSchema": [],
       "aggSeriesLimitReached": false,
       "aggType": "",
       "arguments": {},
       "columnCustomDisplayInfos": {},
       "data": [
        [
         "Unity States",
         null,
         1,
         "Untd Stts",
         "ed St",
         "AFRICAN_CAVE"
        ],
        [
         "Unity States",
         "Ireland",
         264,
         "Untd Stts",
         "ed St",
         "Ireland"
        ],
        [
         "Unity States",
         "India",
         69,
         "Untd Stts",
         "ed St",
         "India"
        ],
        [
         "Egypt",
         null,
         24,
         "Egpt",
         "",
         "AFRICAN_CAVE"
        ],
        [
         "Equatorial Guinea",
         "United States",
         1,
         "Eqtrl Gn",
         "al Gu",
         "United States"
        ],
        [
         "Unity States",
         null,
         25,
         "Untd Stts",
         "ed St",
         "AFRICAN_CAVE"
        ],
        [
         "Unity States",
         "Grenada",
         54,
         "Untd Stts",
         "ed St",
         "Grenada"
        ],
        [
         "Costa Rica",
         "United States",
         477,
         "Cst Rc",
         "ta Ri",
         "United States"
        ],
        [
         "Senegal",
         "United States",
         29,
         "Sngl",
         "",
         "United States"
        ],
        [
         "Unity States",
         "Marshall Islands",
         44,
         "Untd Stts",
         "ed St",
         "Marshall Islands"
        ]
       ],
       "datasetInfos": [],
       "dbfsResultPath": null,
       "isJsonSchema": true,
       "metadata": {},
       "overflow": false,
       "plotOptions": {
        "customPlotOptions": {},
        "displayType": "table",
        "pivotAggregation": null,
        "pivotColumns": null,
        "xColumns": null,
        "yColumns": null
       },
       "removedWidgets": [],
       "schema": [
        {
         "metadata": "{}",
         "name": "dest",
         "type": "\"string\""
        },
        {
         "metadata": "{}",
         "name": "origin",
         "type": "\"string\""
        },
        {
         "metadata": "{}",
         "name": "flights",
         "type": "\"integer\""
        },
        {
         "metadata": "{}",
         "name": "dest_no_vowel",
         "type": "\"string\""
        },
        {
         "metadata": "{}",
         "name": "dest_last2_first2",
         "type": "\"string\""
        },
        {
         "metadata": "{}",
         "name": "temp_origin",
         "type": "\"string\""
        }
       ],
       "type": "table"
      }
     },
     "output_type": "display_data"
    }
   ],
   "source": [
    "display(df.withColumn(\"dest\", F.replace(\"dest\", F.lit(\"ed\"), F.lit(\"y\"))).limit(10))"
   ]
  },
  {
   "cell_type": "markdown",
   "metadata": {
    "application/vnd.databricks.v1+cell": {
     "cellMetadata": {},
     "inputWidgets": {},
     "nuid": "ff2c3ba9-9e37-405a-b2e3-bb234c657050",
     "showTitle": false,
     "tableResultSettingsMap": {},
     "title": ""
    }
   },
   "source": [
    "### Aggregate functions\n",
    "\n",
    "---"
   ]
  },
  {
   "cell_type": "code",
   "execution_count": 0,
   "metadata": {
    "application/vnd.databricks.v1+cell": {
     "cellMetadata": {
      "byteLimit": 2048000,
      "rowLimit": 10000
     },
     "inputWidgets": {},
     "nuid": "b34b1a65-db76-470f-b8bd-f693d636a44c",
     "showTitle": false,
     "tableResultSettingsMap": {},
     "title": ""
    }
   },
   "outputs": [
    {
     "output_type": "display_data",
     "data": {
      "text/html": [
       "<style scoped>\n",
       "  .table-result-container {\n",
       "    max-height: 300px;\n",
       "    overflow: auto;\n",
       "  }\n",
       "  table, th, td {\n",
       "    border: 1px solid black;\n",
       "    border-collapse: collapse;\n",
       "  }\n",
       "  th, td {\n",
       "    padding: 5px;\n",
       "  }\n",
       "  th {\n",
       "    text-align: left;\n",
       "  }\n",
       "</style><div class='table-result-container'><table class='table-result'><thead style='background-color: white'><tr><th>origin</th><th>flights_sum</th></tr></thead><tbody><tr><td>United States</td><td>385426</td></tr><tr><td>Canada</td><td>8305</td></tr><tr><td>Mexico</td><td>6220</td></tr><tr><td>United Kingdom</td><td>1503</td></tr><tr><td>Germany</td><td>1406</td></tr><tr><td>Japan</td><td>1307</td></tr><tr><td>Dominican Republic</td><td>1150</td></tr><tr><td>The Bahamas</td><td>959</td></tr><tr><td>Colombia</td><td>832</td></tr><tr><td>France</td><td>776</td></tr></tbody></table></div>"
      ]
     },
     "metadata": {
      "application/vnd.databricks.v1+output": {
       "addedWidgets": {},
       "aggData": [],
       "aggError": "",
       "aggOverflow": false,
       "aggSchema": [],
       "aggSeriesLimitReached": false,
       "aggType": "",
       "arguments": {},
       "columnCustomDisplayInfos": {},
       "data": [
        [
         "United States",
         385426
        ],
        [
         "Canada",
         8305
        ],
        [
         "Mexico",
         6220
        ],
        [
         "United Kingdom",
         1503
        ],
        [
         "Germany",
         1406
        ],
        [
         "Japan",
         1307
        ],
        [
         "Dominican Republic",
         1150
        ],
        [
         "The Bahamas",
         959
        ],
        [
         "Colombia",
         832
        ],
        [
         "France",
         776
        ]
       ],
       "datasetInfos": [],
       "dbfsResultPath": null,
       "isJsonSchema": true,
       "metadata": {},
       "overflow": false,
       "plotOptions": {
        "customPlotOptions": {},
        "displayType": "table",
        "pivotAggregation": null,
        "pivotColumns": null,
        "xColumns": null,
        "yColumns": null
       },
       "removedWidgets": [],
       "schema": [
        {
         "metadata": "{}",
         "name": "origin",
         "type": "\"string\""
        },
        {
         "metadata": "{}",
         "name": "flights_sum",
         "type": "\"long\""
        }
       ],
       "type": "table"
      }
     },
     "output_type": "display_data"
    }
   ],
   "source": [
    "# simple groupby\n",
    "\n",
    "display(df.groupby(F.col(\"origin\"))\n",
    "          .agg(F.sum(\"flights\").alias(\"flights_sum\"))\n",
    "          .sort(F.col(\"flights_sum\").desc())\n",
    "          .limit(10))"
   ]
  },
  {
   "cell_type": "code",
   "execution_count": 0,
   "metadata": {
    "application/vnd.databricks.v1+cell": {
     "cellMetadata": {
      "byteLimit": 2048000,
      "rowLimit": 10000
     },
     "inputWidgets": {},
     "nuid": "0caaefdd-3c75-4404-89fe-0ac86061b915",
     "showTitle": false,
     "tableResultSettingsMap": {},
     "title": ""
    }
   },
   "outputs": [
    {
     "output_type": "display_data",
     "data": {
      "text/html": [
       "<style scoped>\n",
       "  .table-result-container {\n",
       "    max-height: 300px;\n",
       "    overflow: auto;\n",
       "  }\n",
       "  table, th, td {\n",
       "    border: 1px solid black;\n",
       "    border-collapse: collapse;\n",
       "  }\n",
       "  th, td {\n",
       "    padding: 5px;\n",
       "  }\n",
       "  th {\n",
       "    text-align: left;\n",
       "  }\n",
       "</style><div class='table-result-container'><table class='table-result'><thead style='background-color: white'><tr><th>origin</th><th>flights_skewness</th></tr></thead><tbody><tr><td>United States</td><td>10.985101177961166</td></tr><tr><td>null</td><td>0.17383891159039386</td></tr><tr><td>Russia</td><td>null</td></tr><tr><td>Senegal</td><td>null</td></tr><tr><td>Sweden</td><td>null</td></tr><tr><td>Philippines</td><td>null</td></tr><tr><td>Fiji</td><td>null</td></tr><tr><td>Turkey</td><td>null</td></tr><tr><td>Germany</td><td>null</td></tr><tr><td>Jordan</td><td>null</td></tr></tbody></table></div>"
      ]
     },
     "metadata": {
      "application/vnd.databricks.v1+output": {
       "addedWidgets": {},
       "aggData": [],
       "aggError": "",
       "aggOverflow": false,
       "aggSchema": [],
       "aggSeriesLimitReached": false,
       "aggType": "",
       "arguments": {},
       "columnCustomDisplayInfos": {},
       "data": [
        [
         "United States",
         10.985101177961166
        ],
        [
         null,
         0.17383891159039386
        ],
        [
         "Russia",
         null
        ],
        [
         "Senegal",
         null
        ],
        [
         "Sweden",
         null
        ],
        [
         "Philippines",
         null
        ],
        [
         "Fiji",
         null
        ],
        [
         "Turkey",
         null
        ],
        [
         "Germany",
         null
        ],
        [
         "Jordan",
         null
        ]
       ],
       "datasetInfos": [],
       "dbfsResultPath": null,
       "isJsonSchema": true,
       "metadata": {},
       "overflow": false,
       "plotOptions": {
        "customPlotOptions": {},
        "displayType": "table",
        "pivotAggregation": null,
        "pivotColumns": null,
        "xColumns": null,
        "yColumns": null
       },
       "removedWidgets": [],
       "schema": [
        {
         "metadata": "{}",
         "name": "origin",
         "type": "\"string\""
        },
        {
         "metadata": "{}",
         "name": "flights_skewness",
         "type": "\"double\""
        }
       ],
       "type": "table"
      }
     },
     "output_type": "display_data"
    }
   ],
   "source": [
    "display(df.groupby(\"origin\")\n",
    "          .agg(F.skewness(\"flights\").alias(\"flights_skewness\"))\n",
    "          .sort(F.col(\"flights_skewness\").desc())\n",
    "          .limit(10))"
   ]
  },
  {
   "cell_type": "code",
   "execution_count": 0,
   "metadata": {
    "application/vnd.databricks.v1+cell": {
     "cellMetadata": {
      "byteLimit": 2048000,
      "rowLimit": 10000
     },
     "inputWidgets": {},
     "nuid": "2997624a-e590-4ff2-9138-f4d553a0680d",
     "showTitle": false,
     "tableResultSettingsMap": {},
     "title": ""
    }
   },
   "outputs": [
    {
     "output_type": "display_data",
     "data": {
      "text/html": [
       "<style scoped>\n",
       "  .table-result-container {\n",
       "    max-height: 300px;\n",
       "    overflow: auto;\n",
       "  }\n",
       "  table, th, td {\n",
       "    border: 1px solid black;\n",
       "    border-collapse: collapse;\n",
       "  }\n",
       "  th, td {\n",
       "    padding: 5px;\n",
       "  }\n",
       "  th {\n",
       "    text-align: left;\n",
       "  }\n",
       "</style><div class='table-result-container'><table class='table-result'><thead style='background-color: white'><tr><th>origin_first_letter</th><th>count</th></tr></thead><tbody><tr><td>U</td><td>126</td></tr><tr><td>null</td><td>51</td></tr><tr><td>S</td><td>11</td></tr><tr><td>B</td><td>7</td></tr><tr><td>C</td><td>7</td></tr><tr><td>P</td><td>6</td></tr><tr><td>G</td><td>6</td></tr><tr><td>T</td><td>5</td></tr><tr><td>I</td><td>5</td></tr><tr><td>A</td><td>5</td></tr></tbody></table></div>"
      ]
     },
     "metadata": {
      "application/vnd.databricks.v1+output": {
       "addedWidgets": {},
       "aggData": [],
       "aggError": "",
       "aggOverflow": false,
       "aggSchema": [],
       "aggSeriesLimitReached": false,
       "aggType": "",
       "arguments": {},
       "columnCustomDisplayInfos": {},
       "data": [
        [
         "U",
         126
        ],
        [
         null,
         51
        ],
        [
         "S",
         11
        ],
        [
         "B",
         7
        ],
        [
         "C",
         7
        ],
        [
         "P",
         6
        ],
        [
         "G",
         6
        ],
        [
         "T",
         5
        ],
        [
         "I",
         5
        ],
        [
         "A",
         5
        ]
       ],
       "datasetInfos": [],
       "dbfsResultPath": null,
       "isJsonSchema": true,
       "metadata": {},
       "overflow": false,
       "plotOptions": {
        "customPlotOptions": {},
        "displayType": "table",
        "pivotAggregation": null,
        "pivotColumns": null,
        "xColumns": null,
        "yColumns": null
       },
       "removedWidgets": [],
       "schema": [
        {
         "metadata": "{}",
         "name": "origin_first_letter",
         "type": "\"string\""
        },
        {
         "metadata": "{}",
         "name": "count",
         "type": "\"long\""
        }
       ],
       "type": "table"
      }
     },
     "output_type": "display_data"
    }
   ],
   "source": [
    "display(df.groupby(F.substring(\"origin\", 1, 1).alias(\"origin_first_letter\"))\n",
    "  .agg(F.count(\"flights\").alias(\"count\"))\n",
    "  .sort(F.col(\"count\").desc())\n",
    "  .limit(10))"
   ]
  },
  {
   "cell_type": "code",
   "execution_count": 0,
   "metadata": {
    "application/vnd.databricks.v1+cell": {
     "cellMetadata": {
      "byteLimit": 2048000,
      "rowLimit": 10000
     },
     "inputWidgets": {},
     "nuid": "c07c190d-e576-4086-a126-cbd4f13c3bbc",
     "showTitle": false,
     "tableResultSettingsMap": {},
     "title": ""
    }
   },
   "outputs": [],
   "source": [
    "def get_arrays(val):\n",
    "    return list(range(0, val, val//10 + 1))\n",
    "\n",
    "array_udf = F.udf(get_arrays, T.ArrayType(T.IntegerType()))"
   ]
  },
  {
   "cell_type": "code",
   "execution_count": 0,
   "metadata": {
    "application/vnd.databricks.v1+cell": {
     "cellMetadata": {
      "byteLimit": 2048000,
      "rowLimit": 10000
     },
     "inputWidgets": {},
     "nuid": "57547d3d-2643-4f2a-8451-6243ced95b55",
     "showTitle": false,
     "tableResultSettingsMap": {},
     "title": ""
    }
   },
   "outputs": [
    {
     "output_type": "display_data",
     "data": {
      "text/html": [
       "<style scoped>\n",
       "  .table-result-container {\n",
       "    max-height: 300px;\n",
       "    overflow: auto;\n",
       "  }\n",
       "  table, th, td {\n",
       "    border: 1px solid black;\n",
       "    border-collapse: collapse;\n",
       "  }\n",
       "  th, td {\n",
       "    padding: 5px;\n",
       "  }\n",
       "  th {\n",
       "    text-align: left;\n",
       "  }\n",
       "</style><div class='table-result-container'><table class='table-result'><thead style='background-color: white'><tr><th>dest</th><th>origin</th><th>flights</th><th>dest_no_vowel</th><th>dest_last2_first2</th><th>temp_origin</th><th>crazy_array</th></tr></thead><tbody><tr><td>United States</td><td>null</td><td>1</td><td>Untd Stts</td><td>ed St</td><td>AFRICAN_CAVE</td><td>List(0)</td></tr><tr><td>United States</td><td>Ireland</td><td>264</td><td>Untd Stts</td><td>ed St</td><td>Ireland</td><td>List(0, 27, 54, 81, 108, 135, 162, 189, 216, 243)</td></tr><tr><td>United States</td><td>India</td><td>69</td><td>Untd Stts</td><td>ed St</td><td>India</td><td>List(0, 7, 14, 21, 28, 35, 42, 49, 56, 63)</td></tr><tr><td>Egypt</td><td>null</td><td>24</td><td>Egpt</td><td></td><td>AFRICAN_CAVE</td><td>List(0, 3, 6, 9, 12, 15, 18, 21)</td></tr><tr><td>Equatorial Guinea</td><td>United States</td><td>1</td><td>Eqtrl Gn</td><td>al Gu</td><td>United States</td><td>List(0)</td></tr><tr><td>United States</td><td>null</td><td>25</td><td>Untd Stts</td><td>ed St</td><td>AFRICAN_CAVE</td><td>List(0, 3, 6, 9, 12, 15, 18, 21, 24)</td></tr><tr><td>United States</td><td>Grenada</td><td>54</td><td>Untd Stts</td><td>ed St</td><td>Grenada</td><td>List(0, 6, 12, 18, 24, 30, 36, 42, 48)</td></tr><tr><td>Costa Rica</td><td>United States</td><td>477</td><td>Cst Rc</td><td>ta Ri</td><td>United States</td><td>List(0, 48, 96, 144, 192, 240, 288, 336, 384, 432)</td></tr><tr><td>Senegal</td><td>United States</td><td>29</td><td>Sngl</td><td></td><td>United States</td><td>List(0, 3, 6, 9, 12, 15, 18, 21, 24, 27)</td></tr><tr><td>United States</td><td>Marshall Islands</td><td>44</td><td>Untd Stts</td><td>ed St</td><td>Marshall Islands</td><td>List(0, 5, 10, 15, 20, 25, 30, 35, 40)</td></tr></tbody></table></div>"
      ]
     },
     "metadata": {
      "application/vnd.databricks.v1+output": {
       "addedWidgets": {},
       "aggData": [],
       "aggError": "",
       "aggOverflow": false,
       "aggSchema": [],
       "aggSeriesLimitReached": false,
       "aggType": "",
       "arguments": {},
       "columnCustomDisplayInfos": {},
       "data": [
        [
         "United States",
         null,
         1,
         "Untd Stts",
         "ed St",
         "AFRICAN_CAVE",
         [
          0
         ]
        ],
        [
         "United States",
         "Ireland",
         264,
         "Untd Stts",
         "ed St",
         "Ireland",
         [
          0,
          27,
          54,
          81,
          108,
          135,
          162,
          189,
          216,
          243
         ]
        ],
        [
         "United States",
         "India",
         69,
         "Untd Stts",
         "ed St",
         "India",
         [
          0,
          7,
          14,
          21,
          28,
          35,
          42,
          49,
          56,
          63
         ]
        ],
        [
         "Egypt",
         null,
         24,
         "Egpt",
         "",
         "AFRICAN_CAVE",
         [
          0,
          3,
          6,
          9,
          12,
          15,
          18,
          21
         ]
        ],
        [
         "Equatorial Guinea",
         "United States",
         1,
         "Eqtrl Gn",
         "al Gu",
         "United States",
         [
          0
         ]
        ],
        [
         "United States",
         null,
         25,
         "Untd Stts",
         "ed St",
         "AFRICAN_CAVE",
         [
          0,
          3,
          6,
          9,
          12,
          15,
          18,
          21,
          24
         ]
        ],
        [
         "United States",
         "Grenada",
         54,
         "Untd Stts",
         "ed St",
         "Grenada",
         [
          0,
          6,
          12,
          18,
          24,
          30,
          36,
          42,
          48
         ]
        ],
        [
         "Costa Rica",
         "United States",
         477,
         "Cst Rc",
         "ta Ri",
         "United States",
         [
          0,
          48,
          96,
          144,
          192,
          240,
          288,
          336,
          384,
          432
         ]
        ],
        [
         "Senegal",
         "United States",
         29,
         "Sngl",
         "",
         "United States",
         [
          0,
          3,
          6,
          9,
          12,
          15,
          18,
          21,
          24,
          27
         ]
        ],
        [
         "United States",
         "Marshall Islands",
         44,
         "Untd Stts",
         "ed St",
         "Marshall Islands",
         [
          0,
          5,
          10,
          15,
          20,
          25,
          30,
          35,
          40
         ]
        ]
       ],
       "datasetInfos": [],
       "dbfsResultPath": null,
       "isJsonSchema": true,
       "metadata": {},
       "overflow": false,
       "plotOptions": {
        "customPlotOptions": {},
        "displayType": "table",
        "pivotAggregation": null,
        "pivotColumns": null,
        "xColumns": null,
        "yColumns": null
       },
       "removedWidgets": [],
       "schema": [
        {
         "metadata": "{}",
         "name": "dest",
         "type": "\"string\""
        },
        {
         "metadata": "{}",
         "name": "origin",
         "type": "\"string\""
        },
        {
         "metadata": "{}",
         "name": "flights",
         "type": "\"integer\""
        },
        {
         "metadata": "{}",
         "name": "dest_no_vowel",
         "type": "\"string\""
        },
        {
         "metadata": "{}",
         "name": "dest_last2_first2",
         "type": "\"string\""
        },
        {
         "metadata": "{}",
         "name": "temp_origin",
         "type": "\"string\""
        },
        {
         "metadata": "{}",
         "name": "crazy_array",
         "type": "{\"type\":\"array\",\"elementType\":\"integer\",\"containsNull\":true}"
        }
       ],
       "type": "table"
      }
     },
     "output_type": "display_data"
    }
   ],
   "source": [
    "df = df.withColumn(\n",
    "    \"crazy_array\",\n",
    "    array_udf(\"flights\")\n",
    ")\n",
    "\n",
    "display(df.limit(10))"
   ]
  },
  {
   "cell_type": "code",
   "execution_count": 0,
   "metadata": {
    "application/vnd.databricks.v1+cell": {
     "cellMetadata": {
      "byteLimit": 2048000,
      "rowLimit": 10000
     },
     "inputWidgets": {},
     "nuid": "a80c0643-1f5d-4150-8288-8685e5da310f",
     "showTitle": false,
     "tableResultSettingsMap": {},
     "title": ""
    }
   },
   "outputs": [
    {
     "output_type": "execute_result",
     "data": {
      "text/plain": [
       "IPv4Address('0.0.5.251')"
      ]
     },
     "execution_count": 95,
     "metadata": {},
     "output_type": "execute_result"
    }
   ],
   "source": []
  },
  {
   "cell_type": "code",
   "execution_count": 0,
   "metadata": {
    "application/vnd.databricks.v1+cell": {
     "cellMetadata": {
      "byteLimit": 2048000,
      "rowLimit": 10000
     },
     "inputWidgets": {},
     "nuid": "a672b743-c1c0-4b56-8f4b-c4494c05c7c5",
     "showTitle": false,
     "tableResultSettingsMap": {},
     "title": ""
    }
   },
   "outputs": [],
   "source": [
    "import pandas as pd\n",
    "import ipaddress as ipa\n",
    "\n",
    "@F.pandas_udf(T.StringType())\n",
    "def get_ip(series: pd.Series) -> pd.Series:\n",
    "    return series.apply(lambda x: str(ipa.IPv4Address(x)))"
   ]
  },
  {
   "cell_type": "code",
   "execution_count": 0,
   "metadata": {
    "application/vnd.databricks.v1+cell": {
     "cellMetadata": {
      "byteLimit": 2048000,
      "rowLimit": 10000
     },
     "inputWidgets": {},
     "nuid": "22c5e537-08c8-4f20-9dac-a74759969ae9",
     "showTitle": false,
     "tableResultSettingsMap": {},
     "title": ""
    }
   },
   "outputs": [
    {
     "output_type": "display_data",
     "data": {
      "text/html": [
       "<style scoped>\n",
       "  .table-result-container {\n",
       "    max-height: 300px;\n",
       "    overflow: auto;\n",
       "  }\n",
       "  table, th, td {\n",
       "    border: 1px solid black;\n",
       "    border-collapse: collapse;\n",
       "  }\n",
       "  th, td {\n",
       "    padding: 5px;\n",
       "  }\n",
       "  th {\n",
       "    text-align: left;\n",
       "  }\n",
       "</style><div class='table-result-container'><table class='table-result'><thead style='background-color: white'><tr><th>dest</th><th>origin</th><th>flights</th><th>dest_no_vowel</th><th>dest_last2_first2</th><th>temp_origin</th><th>crazy_array</th><th>crazy_column_pd</th></tr></thead><tbody><tr><td>United States</td><td>null</td><td>1</td><td>Untd Stts</td><td>ed St</td><td>AFRICAN_CAVE</td><td>List(0)</td><td>0.0.0.1</td></tr><tr><td>United States</td><td>Ireland</td><td>264</td><td>Untd Stts</td><td>ed St</td><td>Ireland</td><td>List(0, 27, 54, 81, 108, 135, 162, 189, 216, 243)</td><td>0.0.1.8</td></tr><tr><td>United States</td><td>India</td><td>69</td><td>Untd Stts</td><td>ed St</td><td>India</td><td>List(0, 7, 14, 21, 28, 35, 42, 49, 56, 63)</td><td>0.0.0.69</td></tr><tr><td>Egypt</td><td>null</td><td>24</td><td>Egpt</td><td></td><td>AFRICAN_CAVE</td><td>List(0, 3, 6, 9, 12, 15, 18, 21)</td><td>0.0.0.24</td></tr><tr><td>Equatorial Guinea</td><td>United States</td><td>1</td><td>Eqtrl Gn</td><td>al Gu</td><td>United States</td><td>List(0)</td><td>0.0.0.1</td></tr><tr><td>United States</td><td>null</td><td>25</td><td>Untd Stts</td><td>ed St</td><td>AFRICAN_CAVE</td><td>List(0, 3, 6, 9, 12, 15, 18, 21, 24)</td><td>0.0.0.25</td></tr><tr><td>United States</td><td>Grenada</td><td>54</td><td>Untd Stts</td><td>ed St</td><td>Grenada</td><td>List(0, 6, 12, 18, 24, 30, 36, 42, 48)</td><td>0.0.0.54</td></tr><tr><td>Costa Rica</td><td>United States</td><td>477</td><td>Cst Rc</td><td>ta Ri</td><td>United States</td><td>List(0, 48, 96, 144, 192, 240, 288, 336, 384, 432)</td><td>0.0.1.221</td></tr><tr><td>Senegal</td><td>United States</td><td>29</td><td>Sngl</td><td></td><td>United States</td><td>List(0, 3, 6, 9, 12, 15, 18, 21, 24, 27)</td><td>0.0.0.29</td></tr><tr><td>United States</td><td>Marshall Islands</td><td>44</td><td>Untd Stts</td><td>ed St</td><td>Marshall Islands</td><td>List(0, 5, 10, 15, 20, 25, 30, 35, 40)</td><td>0.0.0.44</td></tr></tbody></table></div>"
      ]
     },
     "metadata": {
      "application/vnd.databricks.v1+output": {
       "addedWidgets": {},
       "aggData": [],
       "aggError": "",
       "aggOverflow": false,
       "aggSchema": [],
       "aggSeriesLimitReached": false,
       "aggType": "",
       "arguments": {},
       "columnCustomDisplayInfos": {},
       "data": [
        [
         "United States",
         null,
         1,
         "Untd Stts",
         "ed St",
         "AFRICAN_CAVE",
         [
          0
         ],
         "0.0.0.1"
        ],
        [
         "United States",
         "Ireland",
         264,
         "Untd Stts",
         "ed St",
         "Ireland",
         [
          0,
          27,
          54,
          81,
          108,
          135,
          162,
          189,
          216,
          243
         ],
         "0.0.1.8"
        ],
        [
         "United States",
         "India",
         69,
         "Untd Stts",
         "ed St",
         "India",
         [
          0,
          7,
          14,
          21,
          28,
          35,
          42,
          49,
          56,
          63
         ],
         "0.0.0.69"
        ],
        [
         "Egypt",
         null,
         24,
         "Egpt",
         "",
         "AFRICAN_CAVE",
         [
          0,
          3,
          6,
          9,
          12,
          15,
          18,
          21
         ],
         "0.0.0.24"
        ],
        [
         "Equatorial Guinea",
         "United States",
         1,
         "Eqtrl Gn",
         "al Gu",
         "United States",
         [
          0
         ],
         "0.0.0.1"
        ],
        [
         "United States",
         null,
         25,
         "Untd Stts",
         "ed St",
         "AFRICAN_CAVE",
         [
          0,
          3,
          6,
          9,
          12,
          15,
          18,
          21,
          24
         ],
         "0.0.0.25"
        ],
        [
         "United States",
         "Grenada",
         54,
         "Untd Stts",
         "ed St",
         "Grenada",
         [
          0,
          6,
          12,
          18,
          24,
          30,
          36,
          42,
          48
         ],
         "0.0.0.54"
        ],
        [
         "Costa Rica",
         "United States",
         477,
         "Cst Rc",
         "ta Ri",
         "United States",
         [
          0,
          48,
          96,
          144,
          192,
          240,
          288,
          336,
          384,
          432
         ],
         "0.0.1.221"
        ],
        [
         "Senegal",
         "United States",
         29,
         "Sngl",
         "",
         "United States",
         [
          0,
          3,
          6,
          9,
          12,
          15,
          18,
          21,
          24,
          27
         ],
         "0.0.0.29"
        ],
        [
         "United States",
         "Marshall Islands",
         44,
         "Untd Stts",
         "ed St",
         "Marshall Islands",
         [
          0,
          5,
          10,
          15,
          20,
          25,
          30,
          35,
          40
         ],
         "0.0.0.44"
        ]
       ],
       "datasetInfos": [],
       "dbfsResultPath": null,
       "isJsonSchema": true,
       "metadata": {},
       "overflow": false,
       "plotOptions": {
        "customPlotOptions": {},
        "displayType": "table",
        "pivotAggregation": null,
        "pivotColumns": null,
        "xColumns": null,
        "yColumns": null
       },
       "removedWidgets": [],
       "schema": [
        {
         "metadata": "{}",
         "name": "dest",
         "type": "\"string\""
        },
        {
         "metadata": "{}",
         "name": "origin",
         "type": "\"string\""
        },
        {
         "metadata": "{}",
         "name": "flights",
         "type": "\"integer\""
        },
        {
         "metadata": "{}",
         "name": "dest_no_vowel",
         "type": "\"string\""
        },
        {
         "metadata": "{}",
         "name": "dest_last2_first2",
         "type": "\"string\""
        },
        {
         "metadata": "{}",
         "name": "temp_origin",
         "type": "\"string\""
        },
        {
         "metadata": "{}",
         "name": "crazy_array",
         "type": "{\"type\":\"array\",\"elementType\":\"integer\",\"containsNull\":true}"
        },
        {
         "metadata": "{}",
         "name": "crazy_column_pd",
         "type": "\"string\""
        }
       ],
       "type": "table"
      }
     },
     "output_type": "display_data"
    }
   ],
   "source": [
    "df = df.withColumn(\n",
    "    \"crazy_column_pd\",\n",
    "    get_ip(F.col(\"flights\"))\n",
    ")\n",
    "\n",
    "display(df.limit(10))"
   ]
  },
  {
   "cell_type": "code",
   "execution_count": 0,
   "metadata": {
    "application/vnd.databricks.v1+cell": {
     "cellMetadata": {},
     "inputWidgets": {},
     "nuid": "3d66a3c8-f8da-4976-9b6f-db9f0ba5ebe3",
     "showTitle": false,
     "tableResultSettingsMap": {},
     "title": ""
    }
   },
   "outputs": [],
   "source": []
  }
 ],
 "metadata": {
  "application/vnd.databricks.v1+notebook": {
   "computePreferences": null,
   "dashboards": [],
   "environmentMetadata": {
    "base_environment": "",
    "environment_version": "1"
   },
   "inputWidgetPreferences": null,
   "language": "python",
   "notebookMetadata": {
    "pythonIndentUnit": 4
   },
   "notebookName": "lab4",
   "widgets": {}
  }
 },
 "nbformat": 4,
 "nbformat_minor": 0
}